{
 "cells": [
  {
   "cell_type": "markdown",
   "metadata": {},
   "source": [
    "# Dataset Creation"
   ]
  },
  {
   "cell_type": "code",
   "execution_count": 1,
   "metadata": {},
   "outputs": [],
   "source": [
    "#Clear previously stored variables\n",
    "%reset -f"
   ]
  },
  {
   "cell_type": "markdown",
   "metadata": {},
   "source": [
    "## 1. Imports"
   ]
  },
  {
   "cell_type": "code",
   "execution_count": 2,
   "metadata": {},
   "outputs": [],
   "source": [
    "import os\n",
    "import glob\n",
    "import numpy as np\n",
    "import pandas as pd\n",
    "import nibabel as nib"
   ]
  },
  {
   "cell_type": "markdown",
   "metadata": {},
   "source": [
    "## 2. Creating Lists of Image Paths and MGMT Labels\n"
   ]
  },
  {
   "cell_type": "markdown",
   "metadata": {},
   "source": [
    "### 2.1 Glob Function"
   ]
  },
  {
   "cell_type": "code",
   "execution_count": 3,
   "metadata": {},
   "outputs": [],
   "source": [
    "#taken from Ashley's classifier, not needed atm\n",
    "\n",
    "import glob # for loading the data\n",
    "def insensitive_glob(pattern):\n",
    "    def either(c):\n",
    "        return '[%s%s]' % (c.lower(), c.upper()) if c.isalpha() else c\n",
    "    return glob.glob(''.join(map(either, pattern)))"
   ]
  },
  {
   "cell_type": "markdown",
   "metadata": {},
   "source": [
    "### 2.2 Dataset - Ivy Foundation\n"
   ]
  },
  {
   "cell_type": "markdown",
   "metadata": {},
   "source": [
    "#### 2.2.1 Loading Labels from Excel\n"
   ]
  },
  {
   "cell_type": "code",
   "execution_count": 39,
   "metadata": {},
   "outputs": [],
   "source": [
    "ivy_data = pd.read_excel('/Volumes/TRIALS/Ivy_Foundation/Document_final/Ivy_OS_Data_September2018_JEG_edits.xlsx')\n",
    "ivy_data = ivy_data[['ID', 'MGMT']]\n",
    "\n",
    "ivy_labels = {}\n",
    "\n",
    "for i in ivy_data.index:\n",
    "    if (ivy_data['MGMT'][i] == \"Methylated\"):\n",
    "        ivy_labels[ivy_data['ID'][i]] = True\n",
    "    elif (ivy_data['MGMT'][i] == \"Unmethylated\"):\n",
    "        ivy_labels[ivy_data['ID'][i]] = False\n"
   ]
  },
  {
   "cell_type": "markdown",
   "metadata": {},
   "source": [
    "#### 2.2.2 Adding Labels and Image Path to Lists"
   ]
  },
  {
   "cell_type": "code",
   "execution_count": 61,
   "metadata": {},
   "outputs": [
    {
     "name": "stdout",
     "output_type": "stream",
     "text": [
      "339\n"
     ]
    }
   ],
   "source": [
    "ivy_root = '/Volumes/TRIALS/Ivy_Foundation/Final_for_Distribution'\n",
    "ivy_flair = []\n",
    "ivy_flair_mask = []\n",
    "ivy_mgmt = []\n",
    "\n",
    "for key in ivy_labels.keys():\n",
    "    flair_path = ivy_root + '/Post/' + \"{:05d}\".format(key) + '/NIFTI_Native/flair.nii.gz'\n",
    "    flair_mask_path = ivy_root + '/Post/' + \"{:05d}\".format(key) + '/NIFTI_Native/FlairMask.nii.gz'\n",
    "    \n",
    "    if (os.path.isfile(flair_path)) and (os.path.isfile(flair_mask_path)):\n",
    "        ivy_flair.append(flair_path)\n",
    "        ivy_flair_mask.append(flair_mask_path)\n",
    "        ivy_mgmt.append(ivy_labels[key])\n",
    "\n",
    "print(len(ivy_flair))\n",
    "\n",
    "assert(len(ivy_flair) == len(ivy_mgmt))\n",
    "assert(len(ivy_flair) == len(ivy_flair_mask))"
   ]
  },
  {
   "cell_type": "markdown",
   "metadata": {},
   "source": [
    "### 2.3 Dataset - Atlas Concatenated"
   ]
  },
  {
   "cell_type": "markdown",
   "metadata": {},
   "source": [
    "#### 2.3.1 Loading Labels from Excel\n"
   ]
  },
  {
   "cell_type": "code",
   "execution_count": 54,
   "metadata": {},
   "outputs": [
    {
     "name": "stdout",
     "output_type": "stream",
     "text": [
      "{1000: True, 1001: False, 1002: False, 1003: False, 1004: False, 1007: False, 1008: False, 1009: False, 1011: False, 1013: True, 1053: False, 1101: False, 1102: False, 1103: False, 1104: False, 1106: True, 1107: True, 1108: False, 1109: True, 1111: False, 1112: True, 1113: False, 1150: False, 1200: False, 1201: False, 1202: False, 1203: False, 1204: False, 1205: True, 1206: False, 1207: True, 1250: False, 1255: True, 1300: True, 1301: False, 1303: False, 1304: False, 1305: True, 1350: False, 1351: True, 1353: True, 1354: False, 1355: False, 1356: False, 1402: True, 1403: False, 1405: False, 1406: False, 1407: True, 1408: False, 1409: True, 1500: True, 1501: True, 1502: False, 1506: False, 1551: True, 1552: False, 1556: False, 1557: False, 1558: True, 1559: True, 1602: False, 1605: True, 1606: False, 1607: False, 1608: False, 1609: False, 1610: True, 1701: True, 1702: False, 1703: True, 1704: True, 1705: False, 1800: False, 1801: False, 1803: False, 1850: True, 1851: False, 1852: True, 1853: False, 1854: False, 1901: False, 1904: False, 1905: True, 1906: True, 1907: False, 1909: True, 1910: False, 1913: False, 2000: True, 2001: False, 2008: False, 2009: False, 2010: True, 2011: False, 2012: False, 2017: False, 2018: True, 2019: False, 2020: False, 2022: True, 2024: False, 2025: False, 2026: False, 2027: False, 2028: False, 2050: False, 2051: True, 2053: False, 2055: False, 2056: False, 2057: True, 2058: False, 2101: True, 2102: False, 2103: True, 2104: True, 2105: False, 2106: True, 2107: True, 2108: True, 2109: False, 2110: False, 2111: False, 2112: True, 2113: False, 2114: True, 2115: False, 2116: True, 2117: False, 2150: False, 2153: False, 2154: False, 2156: False, 2157: True, 2158: True, 2159: False, 2160: True, 2161: False, 2162: True, 2163: False, 2164: False, 2165: True, 2167: False, 2168: False, 2169: False, 2171: False, 2172: True, 2173: False, 2174: False, 2176: True, 2177: True, 2202: False, 2208: False, 2211: False, 2250: True, 2254: False, 2255: True, 2256: False, 2257: True, 2300: False, 2302: False, 2306: True, 2307: False, 2308: False, 2309: False, 2312: False, 2314: False, 2315: True, 2318: False, 2319: False, 2321: False, 2322: True, 2351: True, 2352: True, 2354: False, 2401: False, 2402: False, 2403: True, 2404: True, 2450: True, 2502: False, 2504: False, 2505: False, 2509: True, 2550: False, 2554: False, 2555: False, 2557: False, 2558: False, 2559: False, 2563: False, 2564: False, 2600: True, 2601: False, 2603: True, 2604: True, 2606: False, 2651: True, 2652: False, 2653: False, 2655: False, 2658: False, 2662: False, 2663: False, 2664: True, 2665: False, 2666: False, 2700: False, 2753: False, 2754: False, 2801: True, 2803: True, 2850: False, 2851: True, 2852: True, 2854: False, 2856: False, 2857: False, 2858: True, 2859: True, 2861: True, 2862: True, 2864: True, 2866: True, 2867: False, 2900: False, 2902: False, 2903: True, 2904: False, 2905: False, 2906: False, 2909: False, 2911: False, 2912: False, 2913: False, 2914: False, 2915: True, 2919: True, 2920: True, 2922: False, 2925: True, 2950: True, 2951: False, 2952: False, 3050: True, 3051: False, 3052: False, 3053: False, 3054: True, 3055: False, 3056: True, 3057: True, 3100: False, 3101: True, 3102: True, 3103: True, 3104: False, 3105: False, 3106: False, 3107: False, 3108: False, 3200: False, 3202: False, 3203: False, 3250: False, 3253: False, 3300: True, 3301: True, 3302: True, 3303: False, 3304: True, 3305: True, 3306: True, 3307: False, 3400: True, 3401: False, 3402: False, 3403: False, 3405: True, 3406: False, 3408: False, 3409: False, 3410: False, 3412: False, 3413: False, 3414: True, 3415: False, 3450: True, 3451: True, 3452: False, 3453: True, 3454: False, 3456: False, 3457: False, 3458: False, 3500: False, 3600: False, 3601: False, 3602: False, 3603: True, 3604: False, 3605: True, 3701: False, 3703: False, 3704: True, 3705: True, 3707: False, 3708: False, 3709: False, 3710: False, 3711: True, 3712: True, 3713: False, 3714: True, 3715: True, 3717: True, 3718: False, 3719: False, 3720: True, 3722: False, 3801: True, 3803: False, 3804: False, 3850: False, 3851: False, 3852: False, 3853: True, 3854: True, 3855: False, 3900: False, 3901: False, 3902: True, 3903: False, 3904: False, 3905: False, 3906: False, 3907: False, 3908: False, 3909: True, 3952: False, 3953: False, 3954: False, 3955: True, 4000: True, 4001: False, 4002: False, 4103: False, 4104: False, 4152: False, 4201: False, 4202: False, 4254: True, 4255: True, 4300: False, 4302: True, 4303: False, 4304: False, 4305: False, 4306: False, 4308: False, 4350: False, 4351: False, 4352: False, 4356: False, 4359: False, 4360: True, 4401: False, 4402: True, 4403: False, 4450: False, 4500: False, 4501: False, 4502: True, 4503: False, 4504: False, 4505: False, 4550: False, 4551: True, 4552: False, 4553: False, 4554: False, 4558: False, 4600: True, 4601: False, 4602: False, 4603: False, 4604: False, 4605: True, 4606: False, 4607: False, 4608: True, 4609: False, 4610: False, 4651: True, 4652: True, 4701: True, 4704: False, 4706: False, 4708: True, 4709: False, 4710: False, 4711: True, 4712: True, 4713: False, 4714: False, 4750: True, 4751: False, 4752: True, 4753: True, 4900: False, 4901: True, 4902: True, 4950: False, 4951: True, 4956: True, 5000: False, 5005: False, 5007: False, 5050: True, 5051: False, 5052: True, 5152: True, 5154: True, 5156: True, 5200: False, 5201: False, 5202: False, 5203: False, 5256: False, 5257: False, 5258: False, 5259: False, 5300: False, 5301: False, 5350: True, 5400: False, 5402: False, 5500: False, 5501: False, 5550: True, 5600: False, 5601: True, 5603: False, 5604: True, 5605: False, 5652: False, 5654: False, 5656: False, 5701: False, 5702: False, 5703: False, 5704: False, 5705: False, 5706: False, 5707: False, 5708: False, 5709: False, 5710: False, 5711: True, 5712: False, 5750: False, 5751: False, 5752: True, 5753: True, 5754: False, 5756: False, 5757: False, 5758: False, 5759: False, 5760: False, 5761: False, 5762: False, 5800: True, 5801: True, 5850: True, 5862: False, 5900: False, 5901: True, 5902: False, 5904: False, 5905: False, 6050: False, 6051: False, 6150: False, 6200: False, 6201: True, 6202: True, 6204: False, 6250: False, 6251: False, 6252: False, 6253: True, 6254: True, 6255: False, 6256: False, 6300: False, 6301: True, 6302: True, 6303: False, 6304: True, 6305: False, 6350: True, 6351: True, 6352: False, 6353: True, 6354: False, 6400: False, 6401: True, 6402: True, 6403: False, 6450: False, 6451: False, 6452: True, 6454: True, 6455: True, 6456: False, 6500: False, 6501: True, 6503: False, 6550: True, 6551: False, 6552: False, 6553: True, 6554: False, 6555: False, 6556: True, 6951: False, 6952: True, 6953: False, 6954: True, 7202: True, 7203: False, 7250: False, 7403: True, 7450: False, 7451: False, 7452: True, 7453: False, 7454: False, 7455: False, 7501: False, 7504: True, 7506: True, 7508: False, 7509: False, 7510: True, 7511: True, 7551: False, 7601: True, 7650: False, 7651: False, 7654: False, 7656: False, 7657: True, 7702: True, 7703: True, 7704: True, 7705: False, 7706: False, 7707: False, 7708: True, 7710: True, 7851: True, 7852: True, 7855: False, 7902: False, 7904: False, 7909: False, 7911: False, 7912: False, 8001: False, 8002: True, 8004: False, 8005: False, 8052: True, 8053: False, 8054: False, 8056: False, 8059: True, 8063: False, 8064: True, 8065: False, 8067: True, 8068: True, 8069: False, 8070: True, 8071: True, 8073: False, 8074: False, 8075: False, 8101: False, 8102: False, 8103: False, 8150: False, 8151: False, 8154: False, 8200: True, 8201: True, 8202: False, 8203: False, 8206: True, 8207: False, 8208: False, 8300: False, 8301: False, 8302: True, 8350: False, 8351: False, 8353: False, 8354: False}\n"
     ]
    }
   ],
   "source": [
    "atlas_data = pd.read_excel('/Volumes/TRIALS/Atlas_Concatenated/AVAglio/AVAglio_Info_For_Atlas.xlsx', header=1)\n",
    "atlas_data = atlas_data[['PT', 'S_MGMT']]\n",
    "\n",
    "atlas_labels = {}\n",
    "\n",
    "for i in atlas_data.index:\n",
    "    if (atlas_data['S_MGMT'][i] == 1):\n",
    "        atlas_labels[atlas_data['PT'][i]] = True\n",
    "    elif (atlas_data['S_MGMT'][i] == 0):\n",
    "        atlas_labels[atlas_data['PT'][i]] = False\n"
   ]
  },
  {
   "cell_type": "markdown",
   "metadata": {},
   "source": [
    "#### 2.3.2 Adding Labels and Image Paths to List\n"
   ]
  },
  {
   "cell_type": "code",
   "execution_count": 62,
   "metadata": {},
   "outputs": [
    {
     "name": "stdout",
     "output_type": "stream",
     "text": [
      "600\n"
     ]
    }
   ],
   "source": [
    "atlas_root = '/Volumes/TRIALS/Atlas_Concatenated/AVAglio'\n",
    "atlas_flair = []\n",
    "atlas_flair_mask = []\n",
    "atlas_mgmt = []\n",
    "\n",
    "for key in atlas_labels.keys():\n",
    "    flair_path = atlas_root + '/Flair/AVAglio-flair_' + \"{:04d}\".format(key) + '.nii.gz'\n",
    "    flair_mask_path = atlas_root + '/Flair_Masks/AVAglio-flairmask_' + \"{:04d}\".format(key) + '.nii.gz'\n",
    "    \n",
    "    if (os.path.isfile(flair_path)) and (os.path.isfile(flair_mask_path)):\n",
    "        atlas_flair.append(flair_path)\n",
    "        atlas_flair_mask.append(flair_mask_path)\n",
    "        atlas_mgmt.append(atlas_labels[key])\n",
    "\n",
    "print(len(atlas_flair))\n",
    "\n",
    "assert(len(atlas_flair) == len(atlas_mgmt))\n",
    "assert(len(atlas_flair) == len(atlas_flair_mask))"
   ]
  }
 ],
 "metadata": {
  "kernelspec": {
   "display_name": "venv",
   "language": "python",
   "name": "python3"
  },
  "language_info": {
   "codemirror_mode": {
    "name": "ipython",
    "version": 3
   },
   "file_extension": ".py",
   "mimetype": "text/x-python",
   "name": "python",
   "nbconvert_exporter": "python",
   "pygments_lexer": "ipython3",
   "version": "3.11.6"
  }
 },
 "nbformat": 4,
 "nbformat_minor": 2
}
