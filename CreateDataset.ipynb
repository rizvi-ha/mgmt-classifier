{
 "cells": [
  {
   "cell_type": "markdown",
   "metadata": {},
   "source": [
    "# Dataset Creation"
   ]
  },
  {
   "cell_type": "code",
   "execution_count": 90,
   "metadata": {},
   "outputs": [],
   "source": [
    "#Clear previously stored variables\n",
    "%reset -f"
   ]
  },
  {
   "cell_type": "markdown",
   "metadata": {},
   "source": [
    "## 1. Imports"
   ]
  },
  {
   "cell_type": "code",
   "execution_count": 91,
   "metadata": {},
   "outputs": [],
   "source": [
    "import os\n",
    "import glob\n",
    "import numpy as np\n",
    "import pandas as pd\n",
    "import nibabel as nib"
   ]
  },
  {
   "cell_type": "markdown",
   "metadata": {},
   "source": [
    "## 2. Creating Lists of Image Paths and MGMT Labels\n"
   ]
  },
  {
   "cell_type": "markdown",
   "metadata": {},
   "source": [
    "### 2.1 Glob Function"
   ]
  },
  {
   "cell_type": "code",
   "execution_count": 92,
   "metadata": {},
   "outputs": [],
   "source": [
    "#taken from Ashley's classifier, not needed atm\n",
    "\n",
    "import glob # for loading the data\n",
    "def insensitive_glob(pattern):\n",
    "    def either(c):\n",
    "        return '[%s%s]' % (c.lower(), c.upper()) if c.isalpha() else c\n",
    "    return glob.glob(''.join(map(either, pattern)))"
   ]
  },
  {
   "cell_type": "markdown",
   "metadata": {},
   "source": [
    "### 2.2 Dataset - Ivy Foundation\n"
   ]
  },
  {
   "cell_type": "markdown",
   "metadata": {},
   "source": [
    "#### 2.2.1 Loading Labels from Excel\n"
   ]
  },
  {
   "cell_type": "code",
   "execution_count": 93,
   "metadata": {},
   "outputs": [],
   "source": [
    "ivy_data = pd.read_excel('/Volumes/TRIALS/Ivy_Foundation/Document_final/Ivy_OS_Data_September2018_JEG_edits.xlsx')\n",
    "ivy_data = ivy_data[['ID', 'MGMT']]\n",
    "\n",
    "ivy_labels = {}\n",
    "\n",
    "for i in ivy_data.index:\n",
    "    if (ivy_data['MGMT'][i] == \"Methylated\"):\n",
    "        ivy_labels[ivy_data['ID'][i]] = True\n",
    "    elif (ivy_data['MGMT'][i] == \"Unmethylated\"):\n",
    "        ivy_labels[ivy_data['ID'][i]] = False\n"
   ]
  },
  {
   "cell_type": "markdown",
   "metadata": {},
   "source": [
    "#### 2.2.2 Adding Labels and Image Path to Lists"
   ]
  },
  {
   "cell_type": "code",
   "execution_count": 94,
   "metadata": {},
   "outputs": [
    {
     "name": "stdout",
     "output_type": "stream",
     "text": [
      "658\n"
     ]
    }
   ],
   "source": [
    "ivy_root = '/Volumes/TRIALS/Ivy_Foundation/Final_for_Distribution'\n",
    "ivy_flair = []\n",
    "ivy_flair_mask = []\n",
    "ivy_mgmt = []\n",
    "\n",
    "#Pre\n",
    "for key in ivy_labels.keys():\n",
    "    flair_path = ivy_root + '/Pre/' + \"{:05d}\".format(key) + '/NIFTI_Native/flair.nii.gz'\n",
    "    flair_mask_path = ivy_root + '/Pre/' + \"{:05d}\".format(key) + '/NIFTI_Native/FlairMask.nii.gz'\n",
    "    \n",
    "    if (os.path.isfile(flair_path)) and (os.path.isfile(flair_mask_path)):\n",
    "        ivy_flair.append(flair_path)\n",
    "        ivy_flair_mask.append(flair_mask_path)\n",
    "        ivy_mgmt.append(ivy_labels[key])\n",
    "\n",
    "#Post\n",
    "for key in ivy_labels.keys():\n",
    "    flair_path = ivy_root + '/Post/' + \"{:05d}\".format(key) + '/NIFTI_Native/flair.nii.gz'\n",
    "    flair_mask_path = ivy_root + '/Post/' + \"{:05d}\".format(key) + '/NIFTI_Native/FlairMask.nii.gz'\n",
    "    \n",
    "    if (os.path.isfile(flair_path)) and (os.path.isfile(flair_mask_path)):\n",
    "        ivy_flair.append(flair_path)\n",
    "        ivy_flair_mask.append(flair_mask_path)\n",
    "        ivy_mgmt.append(ivy_labels[key])\n",
    "\n",
    "print(len(ivy_flair))\n",
    "\n",
    "assert(len(ivy_flair) == len(ivy_mgmt))\n",
    "assert(len(ivy_flair) == len(ivy_flair_mask))"
   ]
  },
  {
   "cell_type": "markdown",
   "metadata": {},
   "source": [
    "### 2.3 Dataset - Atlas Concatenated"
   ]
  },
  {
   "cell_type": "markdown",
   "metadata": {},
   "source": [
    "#### 2.3.1 Loading Labels from Excel\n"
   ]
  },
  {
   "cell_type": "code",
   "execution_count": 95,
   "metadata": {},
   "outputs": [],
   "source": [
    "atlas_data = pd.read_excel('/Volumes/TRIALS/Atlas_Concatenated/AVAglio/AVAglio_Info_For_Atlas.xlsx', header=1)\n",
    "atlas_data = atlas_data[['PT', 'S_MGMT']]\n",
    "\n",
    "atlas_labels = {}\n",
    "\n",
    "for i in atlas_data.index:\n",
    "    if (atlas_data['S_MGMT'][i] == 1):\n",
    "        atlas_labels[atlas_data['PT'][i]] = True\n",
    "    elif (atlas_data['S_MGMT'][i] == 0):\n",
    "        atlas_labels[atlas_data['PT'][i]] = False\n"
   ]
  },
  {
   "cell_type": "markdown",
   "metadata": {},
   "source": [
    "#### 2.3.2 Adding Labels and Image Paths to List\n"
   ]
  },
  {
   "cell_type": "code",
   "execution_count": 96,
   "metadata": {},
   "outputs": [
    {
     "name": "stdout",
     "output_type": "stream",
     "text": [
      "600\n"
     ]
    }
   ],
   "source": [
    "atlas_root = '/Volumes/TRIALS/Atlas_Concatenated/AVAglio'\n",
    "atlas_flair = []\n",
    "atlas_flair_mask = []\n",
    "atlas_mgmt = []\n",
    "\n",
    "for key in atlas_labels.keys():\n",
    "    flair_path = atlas_root + '/Flair/AVAglio-flair_' + \"{:04d}\".format(key) + '.nii.gz'\n",
    "    flair_mask_path = atlas_root + '/Flair_Masks/AVAglio-flairmask_' + \"{:04d}\".format(key) + '.nii.gz'\n",
    "    \n",
    "    if (os.path.isfile(flair_path)) and (os.path.isfile(flair_mask_path)):\n",
    "        atlas_flair.append(flair_path)\n",
    "        atlas_flair_mask.append(flair_mask_path)\n",
    "        atlas_mgmt.append(atlas_labels[key])\n",
    "\n",
    "print(len(atlas_flair))\n",
    "\n",
    "assert(len(atlas_flair) == len(atlas_mgmt))\n",
    "assert(len(atlas_flair) == len(atlas_flair_mask))"
   ]
  },
  {
   "cell_type": "markdown",
   "metadata": {},
   "source": [
    "## 3. Create Data Dictionaries"
   ]
  },
  {
   "cell_type": "code",
   "execution_count": 97,
   "metadata": {},
   "outputs": [
    {
     "name": "stdout",
     "output_type": "stream",
     "text": [
      "Initial list  size  All - (1258, 3)\n"
     ]
    },
    {
     "data": {
      "text/html": [
       "<div>\n",
       "<style scoped>\n",
       "    .dataframe tbody tr th:only-of-type {\n",
       "        vertical-align: middle;\n",
       "    }\n",
       "\n",
       "    .dataframe tbody tr th {\n",
       "        vertical-align: top;\n",
       "    }\n",
       "\n",
       "    .dataframe thead th {\n",
       "        text-align: right;\n",
       "    }\n",
       "</style>\n",
       "<table border=\"1\" class=\"dataframe\">\n",
       "  <thead>\n",
       "    <tr style=\"text-align: right;\">\n",
       "      <th></th>\n",
       "      <th>Flair</th>\n",
       "      <th>Flair_Mask</th>\n",
       "      <th>MGMT</th>\n",
       "    </tr>\n",
       "  </thead>\n",
       "  <tbody>\n",
       "    <tr>\n",
       "      <th>0</th>\n",
       "      <td>/Volumes/TRIALS/Ivy_Foundation/Final_for_Distr...</td>\n",
       "      <td>/Volumes/TRIALS/Ivy_Foundation/Final_for_Distr...</td>\n",
       "      <td>False</td>\n",
       "    </tr>\n",
       "    <tr>\n",
       "      <th>1</th>\n",
       "      <td>/Volumes/TRIALS/Ivy_Foundation/Final_for_Distr...</td>\n",
       "      <td>/Volumes/TRIALS/Ivy_Foundation/Final_for_Distr...</td>\n",
       "      <td>True</td>\n",
       "    </tr>\n",
       "    <tr>\n",
       "      <th>2</th>\n",
       "      <td>/Volumes/TRIALS/Ivy_Foundation/Final_for_Distr...</td>\n",
       "      <td>/Volumes/TRIALS/Ivy_Foundation/Final_for_Distr...</td>\n",
       "      <td>True</td>\n",
       "    </tr>\n",
       "    <tr>\n",
       "      <th>3</th>\n",
       "      <td>/Volumes/TRIALS/Ivy_Foundation/Final_for_Distr...</td>\n",
       "      <td>/Volumes/TRIALS/Ivy_Foundation/Final_for_Distr...</td>\n",
       "      <td>False</td>\n",
       "    </tr>\n",
       "    <tr>\n",
       "      <th>4</th>\n",
       "      <td>/Volumes/TRIALS/Ivy_Foundation/Final_for_Distr...</td>\n",
       "      <td>/Volumes/TRIALS/Ivy_Foundation/Final_for_Distr...</td>\n",
       "      <td>True</td>\n",
       "    </tr>\n",
       "  </tbody>\n",
       "</table>\n",
       "</div>"
      ],
      "text/plain": [
       "                                               Flair  \\\n",
       "0  /Volumes/TRIALS/Ivy_Foundation/Final_for_Distr...   \n",
       "1  /Volumes/TRIALS/Ivy_Foundation/Final_for_Distr...   \n",
       "2  /Volumes/TRIALS/Ivy_Foundation/Final_for_Distr...   \n",
       "3  /Volumes/TRIALS/Ivy_Foundation/Final_for_Distr...   \n",
       "4  /Volumes/TRIALS/Ivy_Foundation/Final_for_Distr...   \n",
       "\n",
       "                                          Flair_Mask   MGMT  \n",
       "0  /Volumes/TRIALS/Ivy_Foundation/Final_for_Distr...  False  \n",
       "1  /Volumes/TRIALS/Ivy_Foundation/Final_for_Distr...   True  \n",
       "2  /Volumes/TRIALS/Ivy_Foundation/Final_for_Distr...   True  \n",
       "3  /Volumes/TRIALS/Ivy_Foundation/Final_for_Distr...  False  \n",
       "4  /Volumes/TRIALS/Ivy_Foundation/Final_for_Distr...   True  "
      ]
     },
     "execution_count": 97,
     "metadata": {},
     "output_type": "execute_result"
    }
   ],
   "source": [
    "dataset_ivy = pd.DataFrame(np.column_stack([ivy_flair, ivy_flair_mask, ivy_mgmt]), columns=['Flair', 'Flair_Mask', 'MGMT'])\n",
    "dataset_atlas = pd.DataFrame(np.column_stack([atlas_flair, atlas_flair_mask, atlas_mgmt]), columns=['Flair', 'Flair_Mask', 'MGMT'])\n",
    "\n",
    "dataset_all = result = pd.concat([dataset_ivy, dataset_atlas])\n",
    "print(\"Initial list  size  All - \"  + str(dataset_all.shape))\n",
    "dataset_all.head()"
   ]
  },
  {
   "cell_type": "markdown",
   "metadata": {},
   "source": [
    "## 4. Check Dataset"
   ]
  },
  {
   "cell_type": "markdown",
   "metadata": {},
   "source": [
    "### 4.1 Dataset Distribution"
   ]
  },
  {
   "cell_type": "code",
   "execution_count": 98,
   "metadata": {},
   "outputs": [
    {
     "data": {
      "image/png": "[encoded data removed]",
      "text/plain": [
       "<Figure size 640x480 with 1 Axes>"
      ]
     },
     "metadata": {},
     "output_type": "display_data"
    }
   ],
   "source": [
    "import matplotlib.pyplot as plt\n",
    "\n",
    "bins = [0,1]\n",
    "classes = [\"Unmethylated\", \"Methylated\"]\n",
    "plt.hist(dataset_all[\"MGMT\"])\n",
    "plt.xticks(bins, labels=classes)\n",
    "plt.show()"
   ]
  },
  {
   "cell_type": "markdown",
   "metadata": {},
   "source": [
    "## 5. Shuffle and Split Dataset"
   ]
  },
  {
   "cell_type": "markdown",
   "metadata": {},
   "source": [
    "### 5.1 Shuffle the Dataset\n"
   ]
  },
  {
   "cell_type": "code",
   "execution_count": 99,
   "metadata": {},
   "outputs": [
    {
     "data": {
      "text/html": [
       "<div>\n",
       "<style scoped>\n",
       "    .dataframe tbody tr th:only-of-type {\n",
       "        vertical-align: middle;\n",
       "    }\n",
       "\n",
       "    .dataframe tbody tr th {\n",
       "        vertical-align: top;\n",
       "    }\n",
       "\n",
       "    .dataframe thead th {\n",
       "        text-align: right;\n",
       "    }\n",
       "</style>\n",
       "<table border=\"1\" class=\"dataframe\">\n",
       "  <thead>\n",
       "    <tr style=\"text-align: right;\">\n",
       "      <th></th>\n",
       "      <th>Flair</th>\n",
       "      <th>Flair_Mask</th>\n",
       "      <th>MGMT</th>\n",
       "    </tr>\n",
       "  </thead>\n",
       "  <tbody>\n",
       "    <tr>\n",
       "      <th>0</th>\n",
       "      <td>/Volumes/TRIALS/Ivy_Foundation/Final_for_Distr...</td>\n",
       "      <td>/Volumes/TRIALS/Ivy_Foundation/Final_for_Distr...</td>\n",
       "      <td>False</td>\n",
       "    </tr>\n",
       "    <tr>\n",
       "      <th>1</th>\n",
       "      <td>/Volumes/TRIALS/Ivy_Foundation/Final_for_Distr...</td>\n",
       "      <td>/Volumes/TRIALS/Ivy_Foundation/Final_for_Distr...</td>\n",
       "      <td>False</td>\n",
       "    </tr>\n",
       "    <tr>\n",
       "      <th>2</th>\n",
       "      <td>/Volumes/TRIALS/Atlas_Concatenated/AVAglio/Fla...</td>\n",
       "      <td>/Volumes/TRIALS/Atlas_Concatenated/AVAglio/Fla...</td>\n",
       "      <td>False</td>\n",
       "    </tr>\n",
       "    <tr>\n",
       "      <th>3</th>\n",
       "      <td>/Volumes/TRIALS/Ivy_Foundation/Final_for_Distr...</td>\n",
       "      <td>/Volumes/TRIALS/Ivy_Foundation/Final_for_Distr...</td>\n",
       "      <td>False</td>\n",
       "    </tr>\n",
       "    <tr>\n",
       "      <th>4</th>\n",
       "      <td>/Volumes/TRIALS/Atlas_Concatenated/AVAglio/Fla...</td>\n",
       "      <td>/Volumes/TRIALS/Atlas_Concatenated/AVAglio/Fla...</td>\n",
       "      <td>True</td>\n",
       "    </tr>\n",
       "  </tbody>\n",
       "</table>\n",
       "</div>"
      ],
      "text/plain": [
       "                                               Flair  \\\n",
       "0  /Volumes/TRIALS/Ivy_Foundation/Final_for_Distr...   \n",
       "1  /Volumes/TRIALS/Ivy_Foundation/Final_for_Distr...   \n",
       "2  /Volumes/TRIALS/Atlas_Concatenated/AVAglio/Fla...   \n",
       "3  /Volumes/TRIALS/Ivy_Foundation/Final_for_Distr...   \n",
       "4  /Volumes/TRIALS/Atlas_Concatenated/AVAglio/Fla...   \n",
       "\n",
       "                                          Flair_Mask   MGMT  \n",
       "0  /Volumes/TRIALS/Ivy_Foundation/Final_for_Distr...  False  \n",
       "1  /Volumes/TRIALS/Ivy_Foundation/Final_for_Distr...  False  \n",
       "2  /Volumes/TRIALS/Atlas_Concatenated/AVAglio/Fla...  False  \n",
       "3  /Volumes/TRIALS/Ivy_Foundation/Final_for_Distr...  False  \n",
       "4  /Volumes/TRIALS/Atlas_Concatenated/AVAglio/Fla...   True  "
      ]
     },
     "execution_count": 99,
     "metadata": {},
     "output_type": "execute_result"
    }
   ],
   "source": [
    "# Shuffle dataframe and reset indices\n",
    "dataset_all = dataset_all.sample(frac=1, random_state=4)\n",
    "dataset_all = dataset_all.reset_index(drop=True)\n",
    "dataset_all.head()"
   ]
  },
  {
   "cell_type": "markdown",
   "metadata": {},
   "source": [
    "### 5.2 Train/Valid/Test Split"
   ]
  },
  {
   "cell_type": "code",
   "execution_count": 100,
   "metadata": {},
   "outputs": [
    {
     "name": "stdout",
     "output_type": "stream",
     "text": [
      "1006 125 125\n",
      "1006 125 125\n"
     ]
    }
   ],
   "source": [
    "train_size = int(dataset_all.shape[0] * 0.8)\n",
    "valid_size = int(dataset_all.shape[0] * 0.1)\n",
    "test_size = int(dataset_all.shape[0] * 0.1)\n",
    "\n",
    "print(train_size, valid_size, test_size)\n",
    "\n",
    "dictionary_train = [\n",
    "    {\"Flair_Image\": a, \"Flair_Path\": b, \"Flair_Mask_Image\": c, \"Flair_Mask_Path\": d, \"MGMT\": e}\n",
    "    for a, b, c, d, e in zip(dataset_all[:train_size].Flair, dataset_all[:train_size].Flair, dataset_all[:train_size].Flair_Mask, dataset_all[:train_size].Flair_Mask, dataset_all[:train_size].MGMT)\n",
    "]\n",
    "\n",
    "dictionary_valid = [\n",
    "    {\"Flair_Image\": a, \"Flair_Path\": b, \"Flair_Mask_Image\": c, \"Flair_Mask_Path\": d, \"MGMT\": e}\n",
    "    for a, b, c, d, e in zip(dataset_all[train_size:train_size+valid_size].Flair, dataset_all[train_size:train_size+valid_size].Flair, dataset_all[train_size:train_size+valid_size].Flair_Mask, dataset_all[train_size:train_size+valid_size].Flair_Mask, dataset_all[train_size:train_size+valid_size].MGMT)\n",
    "]\n",
    "\n",
    "dictionary_test = [\n",
    "    {\"Flair_Image\": a, \"Flair_Path\": b, \"Flair_Mask_Image\": c, \"Flair_Mask_Path\": d, \"MGMT\": e}\n",
    "    for a, b, c, d, e in zip(dataset_all[-test_size:].Flair, dataset_all[-test_size:].Flair, dataset_all[-test_size:].Flair_Mask, dataset_all[-test_size:].Flair_Mask, dataset_all[-test_size:].MGMT)\n",
    "]\n",
    "\n",
    "print(len(dictionary_train), len(dictionary_valid), len(dictionary_test))"
   ]
  },
  {
   "cell_type": "markdown",
   "metadata": {},
   "source": [
    "### 5.3 Visualize Distribution of Each Split"
   ]
  },
  {
   "cell_type": "code",
   "execution_count": 101,
   "metadata": {},
   "outputs": [
    {
     "data": {
      "image/png": "[encoded data removed]",
      "text/plain": [
       "<Figure size 1200x1800 with 3 Axes>"
      ]
     },
     "metadata": {},
     "output_type": "display_data"
    }
   ],
   "source": [
    "bins = [0, 1]\n",
    "mgmt_status = [\"Unmethylated\", \"Methylated\"]\n",
    "\n",
    "\n",
    "plt.figure(\"distributions\", (12,18))\n",
    "\n",
    "plt.subplot(3, 1, 1)\n",
    "plt.title(\"Training Dataset Distributions\")\n",
    "plt.hist(dataset_all[:train_size].MGMT)\n",
    "plt.xticks(bins, labels=mgmt_status)\n",
    "\n",
    "plt.subplot(3, 1, 2)\n",
    "plt.title(\"Validation Dataset Distributions\")\n",
    "plt.hist(dataset_all[train_size:train_size+valid_size].MGMT)\n",
    "plt.xticks(bins, labels=mgmt_status)\n",
    "\n",
    "plt.subplot(3, 1, 3)\n",
    "plt.title(\"Test Dataset Distributions\")\n",
    "plt.hist(dataset_all[-test_size:].MGMT)\n",
    "plt.xticks(bins, labels=mgmt_status)\n",
    "\n",
    "plt.show()"
   ]
  },
  {
   "cell_type": "markdown",
   "metadata": {},
   "source": [
    "## 6. Store Datasets"
   ]
  },
  {
   "cell_type": "code",
   "execution_count": 102,
   "metadata": {},
   "outputs": [
    {
     "name": "stdout",
     "output_type": "stream",
     "text": [
      "Stored 'dictionary_train' (list)\n",
      "Stored 'dictionary_valid' (list)\n",
      "Stored 'dictionary_test' (list)\n"
     ]
    },
    {
     "name": "stderr",
     "output_type": "stream",
     "text": [
      "/Users/user/Desktop/mgmt-classifier/venv/lib/python3.11/site-packages/IPython/extensions/storemagic.py:229: UserWarning: using autorestore/dictionary_train requires you to install the `pickleshare` library.\n",
      "  db[ 'autorestore/' + arg ] = obj\n",
      "/Users/user/Desktop/mgmt-classifier/venv/lib/python3.11/site-packages/IPython/extensions/storemagic.py:229: UserWarning: using autorestore/dictionary_valid requires you to install the `pickleshare` library.\n",
      "  db[ 'autorestore/' + arg ] = obj\n",
      "/Users/user/Desktop/mgmt-classifier/venv/lib/python3.11/site-packages/IPython/extensions/storemagic.py:229: UserWarning: using autorestore/dictionary_test requires you to install the `pickleshare` library.\n",
      "  db[ 'autorestore/' + arg ] = obj\n"
     ]
    }
   ],
   "source": [
    "%store dictionary_train\n",
    "%store dictionary_valid\n",
    "%store dictionary_test"
   ]
  }
 ],
 "metadata": {
  "kernelspec": {
   "display_name": "venv",
   "language": "python",
   "name": "python3"
  },
  "language_info": {
   "codemirror_mode": {
    "name": "ipython",
    "version": 3
   },
   "file_extension": ".py",
   "mimetype": "text/x-python",
   "name": "python",
   "nbconvert_exporter": "python",
   "pygments_lexer": "ipython3",
   "version": "3.11.6"
  }
 },
 "nbformat": 4,
 "nbformat_minor": 2
}
