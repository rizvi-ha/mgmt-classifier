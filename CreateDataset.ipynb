{
 "cells": [
  {
   "cell_type": "markdown",
   "metadata": {},
   "source": [
    "# Dataset Creation"
   ]
  },
  {
   "cell_type": "code",
   "execution_count": 44,
   "metadata": {},
   "outputs": [],
   "source": [
    "#Clear previously stored variables\n",
    "%reset -f"
   ]
  },
  {
   "cell_type": "markdown",
   "metadata": {},
   "source": [
    "## 1. Imports"
   ]
  },
  {
   "cell_type": "code",
   "execution_count": 45,
   "metadata": {},
   "outputs": [],
   "source": [
    "import os\n",
    "import glob\n",
    "import numpy as np\n",
    "import pandas as pd\n",
    "import nibabel as nib"
   ]
  },
  {
   "cell_type": "markdown",
   "metadata": {},
   "source": [
    "## 2. Creating Lists of Image Paths and MGMT Labels\n"
   ]
  },
  {
   "cell_type": "markdown",
   "metadata": {},
   "source": [
    "### 2.1 Glob Function"
   ]
  },
  {
   "cell_type": "code",
   "execution_count": 46,
   "metadata": {},
   "outputs": [],
   "source": [
    "import glob # for loading the data\n",
    "def insensitive_glob(pattern):\n",
    "    def either(c):\n",
    "        return '[%s%s]' % (c.lower(), c.upper()) if c.isalpha() else c\n",
    "    return glob.glob(''.join(map(either, pattern)))"
   ]
  },
  {
   "cell_type": "markdown",
   "metadata": {},
   "source": [
    "### 2.2 Dataset - Ivy Foundation\n"
   ]
  },
  {
   "cell_type": "markdown",
   "metadata": {},
   "source": [
    "#### 2.2.1 Loading Labels from Excel\n"
   ]
  },
  {
   "cell_type": "code",
   "execution_count": 47,
   "metadata": {},
   "outputs": [],
   "source": [
    "ivy_data = pd.read_excel('/trials/Ivy_Foundation/Document_final/Ivy_OS_Data_September2018_JEG_edits.xlsx')\n",
    "ivy_data = ivy_data[['ID', 'MGMT']]\n",
    "\n",
    "ivy_labels = {}\n",
    "\n",
    "for i in ivy_data.index:\n",
    "    if (ivy_data['MGMT'][i] == \"Methylated\"):\n",
    "        ivy_labels[ivy_data['ID'][i]] = (0,1)\n",
    "    elif (ivy_data['MGMT'][i] == \"Unmethylated\"):\n",
    "        ivy_labels[ivy_data['ID'][i]] = (1,0)\n"
   ]
  },
  {
   "cell_type": "markdown",
   "metadata": {},
   "source": [
    "#### 2.2.2 Adding Labels and Image Path to Lists"
   ]
  },
  {
   "cell_type": "code",
   "execution_count": 48,
   "metadata": {},
   "outputs": [
    {
     "name": "stdout",
     "output_type": "stream",
     "text": [
      "239\n"
     ]
    }
   ],
   "source": [
    "ivy_root = '/trials/Ivy_Foundation/Final_for_Distribution'\n",
    "ivy_t1 = []\n",
    "ivy_t1c = []\n",
    "ivy_t2 = []\n",
    "ivy_flair = []\n",
    "ivy_mgmt = []\n",
    "\n",
    "#Pre\n",
    "for key in ivy_labels.keys():\n",
    "    t1_path = ivy_root + '/Pre/' + \"{:05d}\".format(key) + '/NIFTI_Native/reg/_bet/t1.special.nii.gz'\n",
    "    t1c_path = ivy_root + '/Pre/' + \"{:05d}\".format(key) + '/NIFTI_Native/reg/_bet/t1+c.special.nii.gz'\n",
    "    t2_path = ivy_root + '/Pre/' + \"{:05d}\".format(key) + '/NIFTI_Native/reg/_bet/t2.special.nii.gz'\n",
    "    flair_path = ivy_root + '/Pre/' + \"{:05d}\".format(key) + '/NIFTI_Native/reg/_bet/flair.special.nii.gz'\n",
    "    \n",
    "    if (os.path.isfile(t1c_path)) and (os.path.isfile(t2_path)) and (os.path.isfile(flair_path) and os.path.isfile(t1_path)):\n",
    "        ivy_t1.append(t1_path)\n",
    "        ivy_t1c.append(t1c_path)\n",
    "        ivy_t2.append(t2_path)\n",
    "        ivy_flair.append(flair_path)\n",
    "        ivy_mgmt.append(ivy_labels[key])\n",
    "\n",
    "#Post\n",
    "for key in ivy_labels.keys():\n",
    "    t1_path = ivy_root + '/Post/' + \"{:05d}\".format(key) + '/NIFTI_Native/reg/_bet/t1.special.nii.gz'\n",
    "    t1c_path = ivy_root + '/Post/' + \"{:05d}\".format(key) + '/NIFTI_Native/reg/_bet/t1+c.special.nii.gz'\n",
    "    t2_path = ivy_root + '/Post/' + \"{:05d}\".format(key) + '/NIFTI_Native/reg/_bet/t2.special.nii.gz'\n",
    "    flair_path = ivy_root + '/Post/' + \"{:05d}\".format(key) + '/NIFTI_Native/reg/_bet/flair.special.nii.gz'\n",
    "    \n",
    "    if (os.path.isfile(t1c_path)) and (os.path.isfile(t2_path)) and (os.path.isfile(flair_path) and os.path.isfile(t1_path)):\n",
    "        ivy_t1.append(t1_path)\n",
    "        ivy_t1c.append(t1c_path)\n",
    "        ivy_t2.append(t2_path)\n",
    "        ivy_flair.append(flair_path)\n",
    "        ivy_mgmt.append(ivy_labels[key])\n",
    "\n",
    "print(len(ivy_t1c))\n",
    "\n",
    "assert(len(ivy_t1c) == len(ivy_mgmt))\n",
    "assert(len(ivy_mgmt) == len(ivy_t2))\n",
    "assert(len(ivy_t2) == len(ivy_flair))\n",
    "assert(len(ivy_t1c) == len(ivy_t1))"
   ]
  },
  {
   "cell_type": "markdown",
   "metadata": {},
   "source": [
    "### 2.3 Dataset - Atlas Concatenated"
   ]
  },
  {
   "cell_type": "markdown",
   "metadata": {},
   "source": [
    "#### 2.3.1 Loading Labels from Excel\n"
   ]
  },
  {
   "cell_type": "code",
   "execution_count": 49,
   "metadata": {},
   "outputs": [
    {
     "name": "stdout",
     "output_type": "stream",
     "text": [
      "603\n"
     ]
    }
   ],
   "source": [
    "atlas_data = pd.read_excel('/trials/AVAglio/Analysis/labels.xlsx', header=1, sheet_name=\"VOLUMES\")\n",
    "atlas_data = atlas_data[['PT', 'S_MGMT']]\n",
    "PT_conversion = pd.read_excel('/trials/AVAglio/Analysis/labels.xlsx', header=1, sheet_name=\"Sheet2\")\n",
    "PT_conversion = PT_conversion[['ID','PT']]\n",
    "\n",
    "conversion_table = {}\n",
    "atlas_labels = {}\n",
    "\n",
    "for i in PT_conversion.index:\n",
    "    conversion_table[PT_conversion['PT'][i]] = PT_conversion['ID'][i]\n",
    "\n",
    "for i in atlas_data.index:\n",
    "    IDnum = conversion_table.get(atlas_data['PT'][i], -1)\n",
    "    exists = (IDnum != -1)\n",
    "    if (atlas_data['S_MGMT'][i] == 1) and exists:\n",
    "        atlas_labels[IDnum] = (0,1)\n",
    "    elif (atlas_data['S_MGMT'][i] == 0) and exists:\n",
    "        atlas_labels[IDnum] = (1,0)\n",
    "\n",
    "print(len(atlas_labels))"
   ]
  },
  {
   "cell_type": "markdown",
   "metadata": {},
   "source": [
    "#### 2.3.2 Adding Labels and Image Paths to List\n"
   ]
  },
  {
   "cell_type": "code",
   "execution_count": 50,
   "metadata": {},
   "outputs": [
    {
     "name": "stdout",
     "output_type": "stream",
     "text": [
      "Valid Data from Atlas: \n",
      "0\n",
      "\n",
      "Errors from Atlas\n",
      "603\n"
     ]
    }
   ],
   "source": [
    "atlas_root = '/trials/AVAglio/DATA/Review'\n",
    "atlas_t1 = []\n",
    "atlas_t1c = []\n",
    "atlas_t2 = []\n",
    "atlas_flair = []\n",
    "atlas_mgmt = []\n",
    "error_counter = 0\n",
    "\n",
    "for key in atlas_labels.keys():\n",
    "    t1_path = atlas_root + '/*-' + \"{:04d}\".format(key) + '/data/1/reg/_bet/t1.special.nii.gz'\n",
    "    t1c_path = atlas_root + '/*-' + \"{:04d}\".format(key) + '/data/1/reg/_bet/t1c.special.nii.gz'\n",
    "    t2_path = atlas_root + '/*-' + \"{:04d}\".format(key) + '/data/1/reg/_bet/t2.special.nii.gz'\n",
    "    flair_path = atlas_root + '/*-' + \"{:04d}\".format(key) + '/data/1/reg/_bet/flair.special.nii.gz'\n",
    "\n",
    "    t1_path = insensitive_glob(t1_path)\n",
    "    t1c_path = insensitive_glob(t1c_path)\n",
    "    t2_path = insensitive_glob(t2_path)\n",
    "    flair_path = insensitive_glob(flair_path)\n",
    "\n",
    "    if len(t1_path) < 1:\n",
    "        t1_path = insensitive_glob(atlas_root + '/*-' + \"{:04d}\".format(key) + '/data/1/*/NIFTI_Native/reg/_bet/t1.special.nii.gz')\n",
    "    if len(t1c_path) < 1:\n",
    "        t1c_path = insensitive_glob(atlas_root + '/*-' + \"{:04d}\".format(key) + '/data/1/*/NIFTI_Native/reg/_bet/t1c.special.nii.gz')\n",
    "    if len(t2_path) < 1:\n",
    "        t2_path = insensitive_glob(atlas_root + '/*-' + \"{:04d}\".format(key) + '/data/1/*/NIFTI_Native/reg/_bet/t2.special.nii.gz')\n",
    "    if len(flair_path) < 1:\n",
    "        flair_path = insensitive_glob(atlas_root + '/*-' + \"{:04d}\".format(key) + '/data/1/*/NIFTI_Native/reg/_bet/flair.special.nii.gz')\n",
    "\n",
    "    \n",
    "    try:\n",
    "        if ((os.path.isfile(t1c_path[0])) and (os.path.isfile(t2_path[0]))) and (os.path.isfile(flair_path[0]) and os.path.isfile(t1_path[0])):\n",
    "            atlas_t1.append(t1_path[0])\n",
    "            atlas_t1c.append(t1c_path[0])\n",
    "            atlas_t2.append(t2_path[0])\n",
    "            atlas_flair.append(flair_path[0])\n",
    "            atlas_mgmt.append(atlas_labels[key])\n",
    "    except:\n",
    "        error_counter += 1\n",
    "\n",
    "print('Valid Data from Atlas: ')\n",
    "print(len(atlas_t1c))\n",
    "print()\n",
    "print('Errors from Atlas')\n",
    "print(error_counter)\n",
    "\n",
    "assert(len(atlas_t1c) == len(atlas_mgmt))\n",
    "assert(len(atlas_mgmt) == len(atlas_t1))"
   ]
  },
  {
   "attachments": {},
   "cell_type": "markdown",
   "metadata": {},
   "source": [
    "### 2.4 Dataset - BRaTs"
   ]
  },
  {
   "cell_type": "markdown",
   "metadata": {},
   "source": [
    "#### 2.4.1 Loading Labels"
   ]
  },
  {
   "cell_type": "code",
   "execution_count": 51,
   "metadata": {},
   "outputs": [],
   "source": [
    "brats_root = '/synapse_data/Ashley/Data/rsna-miccai-brain-tumor-radiogenomic-classification/'\n",
    "brats_data = pd.read_csv(brats_root + \"train_labels.csv\")\n",
    "brats_data = brats_data[['MGMT_value', 'BraTS21ID']]\n",
    "\n",
    "brats_labels = {}\n",
    "\n",
    "for i in range(len(brats_data)):\n",
    "    mgmtp = brats_data['MGMT_value'][i]\n",
    "    brats_labels[brats_data['BraTS21ID'][i]] = (int(not mgmtp), mgmtp)\n"
   ]
  },
  {
   "cell_type": "markdown",
   "metadata": {},
   "source": [
    "#### 2.4.2 Adding Labels and Image Paths to List"
   ]
  },
  {
   "cell_type": "code",
   "execution_count": 52,
   "metadata": {},
   "outputs": [
    {
     "name": "stdout",
     "output_type": "stream",
     "text": [
      "Valid Data from BraTS: \n",
      "576\n",
      "\n",
      "Errors from BraTS\n",
      "9\n"
     ]
    }
   ],
   "source": [
    "brats_root = '/synapse_data/Ashley/Data/rsna-miccai-brain-tumor-radiogenomic-classification/train/'\n",
    "brats_t1 = []\n",
    "brats_t1c = []\n",
    "brats_t2 = []\n",
    "brats_flair = []\n",
    "brats_mgmt = []\n",
    "error_counter = 0\n",
    "\n",
    "for key in brats_labels.keys():\n",
    "    t1_path = brats_root + \"{:05d}\".format(key) + \"/NIFTI_Native/*_t1w.nii.gz\"\n",
    "    t1c_path = brats_root + \"{:05d}\".format(key) + \"/NIFTI_Native/*_t1wce.nii.gz\"\n",
    "    t2_path = brats_root + \"{:05d}\".format(key) + \"/NIFTI_Native/*_t2w.nii.gz\"\n",
    "    flair_path = brats_root + \"{:05d}\".format(key) + \"/NIFTI_Native/*_flair.nii.gz\"\n",
    "    \n",
    "    t1_path = insensitive_glob(t1_path)\n",
    "    t1c_path = insensitive_glob(t1c_path)\n",
    "    t2_path = insensitive_glob(t2_path)\n",
    "    flair_path = insensitive_glob(flair_path)\n",
    "\n",
    "    assert(t1_path != [])\n",
    "\n",
    "    try:\n",
    "        if ((os.path.isfile(t1c_path[0])) and (os.path.isfile(t2_path[0]))) and (os.path.isfile(flair_path[0]) and os.path.isfile(t1_path[0])):\n",
    "            brats_t1.append(t1_path[0])\n",
    "            brats_t1c.append(t1c_path[0])\n",
    "            brats_t2.append(t2_path[0])\n",
    "            brats_flair.append(flair_path[0])\n",
    "            brats_mgmt.append(brats_labels[key])\n",
    "    except:\n",
    "        error_counter += 1\n",
    "\n",
    "\n",
    "print('Valid Data from BraTS: ')\n",
    "print(len(brats_t1c))\n",
    "print()\n",
    "print('Errors from BraTS')\n",
    "print(error_counter)"
   ]
  },
  {
   "cell_type": "markdown",
   "metadata": {},
   "source": [
    "## 3. Create Data Dictionaries"
   ]
  },
  {
   "cell_type": "code",
   "execution_count": 66,
   "metadata": {},
   "outputs": [
    {
     "name": "stdout",
     "output_type": "stream",
     "text": [
      "Initial list  size  All - (815, 6)\n"
     ]
    }
   ],
   "source": [
    "dataset_ivy = pd.DataFrame(np.column_stack([ivy_t1, ivy_t1c, ivy_t2, ivy_flair, ivy_mgmt]), columns=['t1', 't1c', 't2', 'flair', 'MGMTn', 'MGMTp'])\n",
    "#dataset_atlas = pd.DataFrame(np.column_stack([atlas_t1, atlas_t1c, atlas_t2, atlas_flair, atlas_mgmt]), columns=['t1', 't1c', 't2', 'flair', 'MGMTn', 'MGMTp'])\n",
    "dataset_brats = pd.DataFrame(np.column_stack([brats_t1, brats_t1c, brats_t2, brats_flair, brats_mgmt]), columns=['t1', 't1c', 't2', 'flair', 'MGMTn', 'MGMTp'])\n",
    "\n",
    "dataset_all = result = pd.concat([dataset_ivy, dataset_brats])\n",
    "print(\"Initial list  size  All - \"  + str(dataset_all.shape))\n",
    "dataset_all.head()\n",
    "dataset_all.to_csv('pathlist.csv')"
   ]
  },
  {
   "cell_type": "markdown",
   "metadata": {},
   "source": [
    "## 4. Check Dataset"
   ]
  },
  {
   "cell_type": "markdown",
   "metadata": {},
   "source": [
    "### 4.1 Dataset Distribution"
   ]
  },
  {
   "cell_type": "code",
   "execution_count": 67,
   "metadata": {},
   "outputs": [
    {
     "data": {
      "image/png": "[encoded data removed]",
      "text/plain": [
       "<Figure size 640x480 with 1 Axes>"
      ]
     },
     "metadata": {},
     "output_type": "display_data"
    }
   ],
   "source": [
    "import matplotlib.pyplot as plt\n",
    "\n",
    "bins = [0,1]\n",
    "classes = [\"Unmethylated\", \"Methylated\"]\n",
    "plt.hist(dataset_all[\"MGMTp\"])\n",
    "plt.xticks(bins, labels=classes)\n",
    "plt.show()"
   ]
  },
  {
   "cell_type": "markdown",
   "metadata": {},
   "source": [
    "## 5. Shuffle and Split Dataset"
   ]
  },
  {
   "cell_type": "markdown",
   "metadata": {},
   "source": [
    "### 5.1 Shuffle the Dataset\n"
   ]
  },
  {
   "cell_type": "code",
   "execution_count": 68,
   "metadata": {},
   "outputs": [
    {
     "data": {
      "text/html": [
       "<div>\n",
       "<style scoped>\n",
       "    .dataframe tbody tr th:only-of-type {\n",
       "        vertical-align: middle;\n",
       "    }\n",
       "\n",
       "    .dataframe tbody tr th {\n",
       "        vertical-align: top;\n",
       "    }\n",
       "\n",
       "    .dataframe thead th {\n",
       "        text-align: right;\n",
       "    }\n",
       "</style>\n",
       "<table border=\"1\" class=\"dataframe\">\n",
       "  <thead>\n",
       "    <tr style=\"text-align: right;\">\n",
       "      <th></th>\n",
       "      <th>t1</th>\n",
       "      <th>t1c</th>\n",
       "      <th>t2</th>\n",
       "      <th>flair</th>\n",
       "      <th>MGMTn</th>\n",
       "      <th>MGMTp</th>\n",
       "    </tr>\n",
       "  </thead>\n",
       "  <tbody>\n",
       "    <tr>\n",
       "      <th>0</th>\n",
       "      <td>/synapse_data/Ashley/Data/rsna-miccai-brain-tu...</td>\n",
       "      <td>/synapse_data/Ashley/Data/rsna-miccai-brain-tu...</td>\n",
       "      <td>/synapse_data/Ashley/Data/rsna-miccai-brain-tu...</td>\n",
       "      <td>/synapse_data/Ashley/Data/rsna-miccai-brain-tu...</td>\n",
       "      <td>0</td>\n",
       "      <td>1</td>\n",
       "    </tr>\n",
       "    <tr>\n",
       "      <th>1</th>\n",
       "      <td>/synapse_data/Ashley/Data/rsna-miccai-brain-tu...</td>\n",
       "      <td>/synapse_data/Ashley/Data/rsna-miccai-brain-tu...</td>\n",
       "      <td>/synapse_data/Ashley/Data/rsna-miccai-brain-tu...</td>\n",
       "      <td>/synapse_data/Ashley/Data/rsna-miccai-brain-tu...</td>\n",
       "      <td>0</td>\n",
       "      <td>1</td>\n",
       "    </tr>\n",
       "    <tr>\n",
       "      <th>2</th>\n",
       "      <td>/trials/Ivy_Foundation/Final_for_Distribution/...</td>\n",
       "      <td>/trials/Ivy_Foundation/Final_for_Distribution/...</td>\n",
       "      <td>/trials/Ivy_Foundation/Final_for_Distribution/...</td>\n",
       "      <td>/trials/Ivy_Foundation/Final_for_Distribution/...</td>\n",
       "      <td>0</td>\n",
       "      <td>1</td>\n",
       "    </tr>\n",
       "    <tr>\n",
       "      <th>3</th>\n",
       "      <td>/synapse_data/Ashley/Data/rsna-miccai-brain-tu...</td>\n",
       "      <td>/synapse_data/Ashley/Data/rsna-miccai-brain-tu...</td>\n",
       "      <td>/synapse_data/Ashley/Data/rsna-miccai-brain-tu...</td>\n",
       "      <td>/synapse_data/Ashley/Data/rsna-miccai-brain-tu...</td>\n",
       "      <td>0</td>\n",
       "      <td>1</td>\n",
       "    </tr>\n",
       "    <tr>\n",
       "      <th>4</th>\n",
       "      <td>/trials/Ivy_Foundation/Final_for_Distribution/...</td>\n",
       "      <td>/trials/Ivy_Foundation/Final_for_Distribution/...</td>\n",
       "      <td>/trials/Ivy_Foundation/Final_for_Distribution/...</td>\n",
       "      <td>/trials/Ivy_Foundation/Final_for_Distribution/...</td>\n",
       "      <td>1</td>\n",
       "      <td>0</td>\n",
       "    </tr>\n",
       "  </tbody>\n",
       "</table>\n",
       "</div>"
      ],
      "text/plain": [
       "                                                  t1  \\\n",
       "0  /synapse_data/Ashley/Data/rsna-miccai-brain-tu...   \n",
       "1  /synapse_data/Ashley/Data/rsna-miccai-brain-tu...   \n",
       "2  /trials/Ivy_Foundation/Final_for_Distribution/...   \n",
       "3  /synapse_data/Ashley/Data/rsna-miccai-brain-tu...   \n",
       "4  /trials/Ivy_Foundation/Final_for_Distribution/...   \n",
       "\n",
       "                                                 t1c  \\\n",
       "0  /synapse_data/Ashley/Data/rsna-miccai-brain-tu...   \n",
       "1  /synapse_data/Ashley/Data/rsna-miccai-brain-tu...   \n",
       "2  /trials/Ivy_Foundation/Final_for_Distribution/...   \n",
       "3  /synapse_data/Ashley/Data/rsna-miccai-brain-tu...   \n",
       "4  /trials/Ivy_Foundation/Final_for_Distribution/...   \n",
       "\n",
       "                                                  t2  \\\n",
       "0  /synapse_data/Ashley/Data/rsna-miccai-brain-tu...   \n",
       "1  /synapse_data/Ashley/Data/rsna-miccai-brain-tu...   \n",
       "2  /trials/Ivy_Foundation/Final_for_Distribution/...   \n",
       "3  /synapse_data/Ashley/Data/rsna-miccai-brain-tu...   \n",
       "4  /trials/Ivy_Foundation/Final_for_Distribution/...   \n",
       "\n",
       "                                               flair MGMTn MGMTp  \n",
       "0  /synapse_data/Ashley/Data/rsna-miccai-brain-tu...     0     1  \n",
       "1  /synapse_data/Ashley/Data/rsna-miccai-brain-tu...     0     1  \n",
       "2  /trials/Ivy_Foundation/Final_for_Distribution/...     0     1  \n",
       "3  /synapse_data/Ashley/Data/rsna-miccai-brain-tu...     0     1  \n",
       "4  /trials/Ivy_Foundation/Final_for_Distribution/...     1     0  "
      ]
     },
     "execution_count": 68,
     "metadata": {},
     "output_type": "execute_result"
    }
   ],
   "source": [
    "# Shuffle dataframe and reset indices\n",
    "dataset_all = dataset_all.sample(frac=1, random_state=2)\n",
    "dataset_all = dataset_all.reset_index(drop=True)\n",
    "dataset_all.head()"
   ]
  },
  {
   "cell_type": "markdown",
   "metadata": {},
   "source": [
    "### 5.2 Train/Valid/Test Split"
   ]
  },
  {
   "cell_type": "code",
   "execution_count": 69,
   "metadata": {},
   "outputs": [
    {
     "name": "stdout",
     "output_type": "stream",
     "text": [
      "652 81 81\n",
      "652 81 81\n"
     ]
    }
   ],
   "source": [
    "train_size = int(dataset_all.shape[0] * 0.8)\n",
    "valid_size = int(dataset_all.shape[0] * 0.1)\n",
    "test_size = int(dataset_all.shape[0] * 0.1)\n",
    "\n",
    "print(train_size, valid_size, test_size)\n",
    "\n",
    "dictionary_train = [\n",
    "    {\"t1c\": a, \"t2\": b, \"flair\": c, \"MGMTn\": d, \"t1\": e, \"MGMTp\": f}\n",
    "    for a, b, c, d, e, f in zip(dataset_all[:train_size].t1c, dataset_all[:train_size].t2, dataset_all[:train_size].flair, dataset_all[:train_size].MGMTn, dataset_all[:train_size].t1, dataset_all[:train_size].MGMTp)\n",
    "]\n",
    "\n",
    "dictionary_valid = [\n",
    "    {\"t1c\": a, \"t2\": b, \"flair\": c, \"MGMTn\": d, \"t1\": e, \"MGMTp\": f}\n",
    "    for a, b, c, d, e, f in zip(dataset_all[train_size:train_size+valid_size].t1c, dataset_all[train_size:train_size+valid_size].t2, dataset_all[train_size:train_size+valid_size].flair, dataset_all[train_size:train_size+valid_size].MGMTn, dataset_all[train_size:train_size+valid_size].t1, dataset_all[train_size:train_size+valid_size].MGMTp)\n",
    "]\n",
    "\n",
    "dictionary_test = [\n",
    "    {\"t1c\": a, \"t2\": b, \"flair\": c, \"MGMTn\": d, \"t1\": e, \"MGMTp\": f}\n",
    "    for a, b, c, d, e, f in zip(dataset_all[-test_size:].t1c, dataset_all[-test_size:].t2, dataset_all[-test_size:].flair, dataset_all[-test_size:].MGMTn, dataset_all[-test_size:].t1, dataset_all[-test_size:].MGMTp)\n",
    "]\n",
    "\n",
    "print(len(dictionary_train), len(dictionary_valid), len(dictionary_test))"
   ]
  },
  {
   "cell_type": "markdown",
   "metadata": {},
   "source": [
    "### 5.3 Visualize Distribution of Each Split"
   ]
  },
  {
   "cell_type": "code",
   "execution_count": 70,
   "metadata": {},
   "outputs": [
    {
     "data": {
      "image/png": "[encoded data removed]",
      "text/plain": [
       "<Figure size 1200x1800 with 3 Axes>"
      ]
     },
     "metadata": {},
     "output_type": "display_data"
    },
    {
     "name": "stdout",
     "output_type": "stream",
     "text": [
      "{'t1c': '/synapse_data/Ashley/Data/rsna-miccai-brain-tumor-radiogenomic-classification/train/00081/NIFTI_Native/1200_t1wce.nii.gz', 't2': '/synapse_data/Ashley/Data/rsna-miccai-brain-tumor-radiogenomic-classification/train/00081/NIFTI_Native/5_t2w.nii.gz', 'flair': '/synapse_data/Ashley/Data/rsna-miccai-brain-tumor-radiogenomic-classification/train/00081/NIFTI_Native/401_flair.nii.gz', 'MGMTn': '1', 't1': '/synapse_data/Ashley/Data/rsna-miccai-brain-tumor-radiogenomic-classification/train/00081/NIFTI_Native/10_t1w.nii.gz', 'MGMTp': '0'}\n",
      "{'t1c': '/synapse_data/Ashley/Data/rsna-miccai-brain-tumor-radiogenomic-classification/train/00273/NIFTI_Native/14_t1wce.nii.gz', 't2': '/synapse_data/Ashley/Data/rsna-miccai-brain-tumor-radiogenomic-classification/train/00273/NIFTI_Native/3_t2w.nii.gz', 'flair': '/synapse_data/Ashley/Data/rsna-miccai-brain-tumor-radiogenomic-classification/train/00273/NIFTI_Native/12_flair.nii.gz', 'MGMTn': '0', 't1': '/synapse_data/Ashley/Data/rsna-miccai-brain-tumor-radiogenomic-classification/train/00273/NIFTI_Native/2_t1w.nii.gz', 'MGMTp': '1'}\n",
      "{'t1c': '/synapse_data/Ashley/Data/rsna-miccai-brain-tumor-radiogenomic-classification/train/00116/NIFTI_Native/10_t1wce.nii.gz', 't2': '/synapse_data/Ashley/Data/rsna-miccai-brain-tumor-radiogenomic-classification/train/00116/NIFTI_Native/8_t2w.nii.gz', 'flair': '/synapse_data/Ashley/Data/rsna-miccai-brain-tumor-radiogenomic-classification/train/00116/NIFTI_Native/3_flair.nii.gz', 'MGMTn': '1', 't1': '/synapse_data/Ashley/Data/rsna-miccai-brain-tumor-radiogenomic-classification/train/00116/NIFTI_Native/7_t1w.nii.gz', 'MGMTp': '0'}\n",
      "{'t1c': '/synapse_data/Ashley/Data/rsna-miccai-brain-tumor-radiogenomic-classification/train/00283/NIFTI_Native/14_t1wce.nii.gz', 't2': '/synapse_data/Ashley/Data/rsna-miccai-brain-tumor-radiogenomic-classification/train/00283/NIFTI_Native/3_t2w.nii.gz', 'flair': '/synapse_data/Ashley/Data/rsna-miccai-brain-tumor-radiogenomic-classification/train/00283/NIFTI_Native/12_flair.nii.gz', 'MGMTn': '1', 't1': '/synapse_data/Ashley/Data/rsna-miccai-brain-tumor-radiogenomic-classification/train/00283/NIFTI_Native/2_t1w.nii.gz', 'MGMTp': '0'}\n",
      "{'t1c': '/trials/Ivy_Foundation/Final_for_Distribution/Pre/01449/NIFTI_Native/reg/_bet/t1+c.special.nii.gz', 't2': '/trials/Ivy_Foundation/Final_for_Distribution/Pre/01449/NIFTI_Native/reg/_bet/t2.special.nii.gz', 'flair': '/trials/Ivy_Foundation/Final_for_Distribution/Pre/01449/NIFTI_Native/reg/_bet/flair.special.nii.gz', 'MGMTn': '1', 't1': '/trials/Ivy_Foundation/Final_for_Distribution/Pre/01449/NIFTI_Native/reg/_bet/t1.special.nii.gz', 'MGMTp': '0'}\n"
     ]
    }
   ],
   "source": [
    "bins = [0, 1]\n",
    "mgmt_status = [\"Unmethylated\", \"Methylated\"]\n",
    "\n",
    "\n",
    "plt.figure(\"distributions\", (12,18))\n",
    "\n",
    "plt.subplot(3, 1, 1)\n",
    "plt.title(\"Training Dataset Distributions\")\n",
    "plt.hist(dataset_all[:train_size].MGMTp)\n",
    "plt.xticks(bins, labels=mgmt_status)\n",
    "\n",
    "plt.subplot(3, 1, 2)\n",
    "plt.title(\"Validation Dataset Distributions\")\n",
    "plt.hist(dataset_all[train_size:train_size+valid_size].MGMTp)\n",
    "plt.xticks(bins, labels=mgmt_status)\n",
    "\n",
    "plt.subplot(3, 1, 3)\n",
    "plt.title(\"Test Dataset Distributions\")\n",
    "plt.hist(dataset_all[-test_size:].MGMTp)\n",
    "plt.xticks(bins, labels=mgmt_status)\n",
    "\n",
    "plt.show()\n",
    "\n",
    "for i in range(5):\n",
    "    print(dictionary_valid[i])"
   ]
  },
  {
   "cell_type": "markdown",
   "metadata": {},
   "source": [
    "## 6. Store Datasets"
   ]
  },
  {
   "cell_type": "code",
   "execution_count": 71,
   "metadata": {},
   "outputs": [
    {
     "name": "stdout",
     "output_type": "stream",
     "text": [
      "Stored 'dictionary_train' (list)\n",
      "Stored 'dictionary_valid' (list)\n",
      "Stored 'dictionary_test' (list)\n"
     ]
    }
   ],
   "source": [
    "%store dictionary_train\n",
    "%store dictionary_valid\n",
    "%store dictionary_test"
   ]
  },
  {
   "cell_type": "code",
   "execution_count": null,
   "metadata": {},
   "outputs": [],
   "source": []
  }
 ],
 "metadata": {
  "kernelspec": {
   "display_name": "Python 3 (ipykernel)",
   "language": "python",
   "name": "python3"
  },
  "language_info": {
   "codemirror_mode": {
    "name": "ipython",
    "version": 3
   },
   "file_extension": ".py",
   "mimetype": "text/x-python",
   "name": "python",
   "nbconvert_exporter": "python",
   "pygments_lexer": "ipython3",
   "version": "3.10.12"
  }
 },
 "nbformat": 4,
 "nbformat_minor": 4
}
