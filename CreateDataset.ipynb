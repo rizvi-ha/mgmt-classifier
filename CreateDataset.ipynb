{
 "cells": [
  {
   "cell_type": "markdown",
   "metadata": {},
   "source": [
    "# Dataset Creation"
   ]
  },
  {
   "cell_type": "code",
   "execution_count": 1,
   "metadata": {},
   "outputs": [],
   "source": [
    "#Clear previously stored variables\n",
    "%reset -f"
   ]
  },
  {
   "cell_type": "markdown",
   "metadata": {},
   "source": [
    "## 1. Imports"
   ]
  },
  {
   "cell_type": "code",
   "execution_count": 2,
   "metadata": {},
   "outputs": [],
   "source": [
    "import os\n",
    "import glob\n",
    "import numpy as np\n",
    "import pandas as pd\n",
    "import nibabel as nib"
   ]
  },
  {
   "cell_type": "markdown",
   "metadata": {},
   "source": [
    "## 2. Creating Lists of Image Paths and MGMT Labels\n"
   ]
  },
  {
   "cell_type": "markdown",
   "metadata": {},
   "source": [
    "### 2.1 Glob Function"
   ]
  },
  {
   "cell_type": "code",
   "execution_count": 3,
   "metadata": {},
   "outputs": [],
   "source": [
    "import glob # for loading the data\n",
    "def insensitive_glob(pattern):\n",
    "    def either(c):\n",
    "        return '[%s%s]' % (c.lower(), c.upper()) if c.isalpha() else c\n",
    "    return glob.glob(''.join(map(either, pattern)))"
   ]
  },
  {
   "cell_type": "markdown",
   "metadata": {},
   "source": [
    "### 2.2 Dataset - Ivy Foundation\n"
   ]
  },
  {
   "cell_type": "markdown",
   "metadata": {},
   "source": [
    "#### 2.2.1 Loading Labels from Excel\n"
   ]
  },
  {
   "cell_type": "code",
   "execution_count": 4,
   "metadata": {},
   "outputs": [],
   "source": [
    "ivy_data = pd.read_excel('/trials/Ivy_Foundation/Document_final/Ivy_OS_Data_September2018_JEG_edits.xlsx')\n",
    "ivy_data = ivy_data[['ID', 'MGMT']]\n",
    "\n",
    "ivy_labels = {}\n",
    "\n",
    "for i in ivy_data.index:\n",
    "    if (ivy_data['MGMT'][i] == \"Methylated\"):\n",
    "        ivy_labels[ivy_data['ID'][i]] = (0,1)\n",
    "    elif (ivy_data['MGMT'][i] == \"Unmethylated\"):\n",
    "        ivy_labels[ivy_data['ID'][i]] = (1,0)\n"
   ]
  },
  {
   "cell_type": "markdown",
   "metadata": {},
   "source": [
    "#### 2.2.2 Adding Labels and Image Path to Lists"
   ]
  },
  {
   "cell_type": "code",
   "execution_count": 5,
   "metadata": {},
   "outputs": [
    {
     "name": "stdout",
     "output_type": "stream",
     "text": [
      "571\n"
     ]
    }
   ],
   "source": [
    "ivy_root = '/trials/Ivy_Foundation/Final_for_Distribution'\n",
    "ivy_t1 = []\n",
    "ivy_t1c = []\n",
    "ivy_t2 = []\n",
    "ivy_flair = []\n",
    "ivy_mgmt = []\n",
    "ivy_id = []\n",
    "\n",
    "#Pre\n",
    "for key in ivy_labels.keys():\n",
    "    t1_path = ivy_root + '/Pre/' + \"{:05d}\".format(key) + '/NIFTI_Native/reg/_bet/t1.special.nii.gz'\n",
    "    t1c_path = ivy_root + '/Pre/' + \"{:05d}\".format(key) + '/NIFTI_Native/reg/_bet/t1+c.final.nii.gz'\n",
    "    t2_path = ivy_root + '/Pre/' + \"{:05d}\".format(key) + '/NIFTI_Native/reg/_bet/t2.final.nii.gz'\n",
    "    flair_path = ivy_root + '/Pre/' + \"{:05d}\".format(key) + '/NIFTI_Native/reg/_bet/flair.final.nii.gz'\n",
    "    \n",
    "    if (os.path.isfile(t1c_path)) and (os.path.isfile(t2_path)) and (os.path.isfile(flair_path) and os.path.isfile(t1_path)):\n",
    "        ivy_t1.append(t1_path)\n",
    "        ivy_t1c.append(t1c_path)\n",
    "        ivy_t2.append(t2_path)\n",
    "        ivy_flair.append(flair_path)\n",
    "        ivy_mgmt.append(ivy_labels[key])\n",
    "        ivy_id.append(\"i\" + str(key))\n",
    "\n",
    "#Post\n",
    "for key in ivy_labels.keys():\n",
    "    t1_path = ivy_root + '/Post/' + \"{:05d}\".format(key) + '/NIFTI_Native/reg/_bet/t1.special.nii.gz'\n",
    "    t1c_path = ivy_root + '/Post/' + \"{:05d}\".format(key) + '/NIFTI_Native/reg/_bet/t1+c.final.nii.gz'\n",
    "    t2_path = ivy_root + '/Post/' + \"{:05d}\".format(key) + '/NIFTI_Native/reg/_bet/t2.final.nii.gz'\n",
    "    flair_path = ivy_root + '/Post/' + \"{:05d}\".format(key) + '/NIFTI_Native/reg/_bet/flair.final.nii.gz'\n",
    "    \n",
    "    if (os.path.isfile(t1c_path)) and (os.path.isfile(t2_path)) and (os.path.isfile(flair_path) and os.path.isfile(t1_path)):\n",
    "        ivy_t1.append(t1_path)\n",
    "        ivy_t1c.append(t1c_path)\n",
    "        ivy_t2.append(t2_path)\n",
    "        ivy_flair.append(flair_path)\n",
    "        ivy_mgmt.append(ivy_labels[key])\n",
    "        ivy_id.append(\"I\" + str(key))\n",
    "\n",
    "print(len(ivy_t1c))\n",
    "\n",
    "assert(len(ivy_t1c) == len(ivy_mgmt))\n",
    "assert(len(ivy_mgmt) == len(ivy_t2))\n",
    "assert(len(ivy_t2) == len(ivy_flair))\n",
    "assert(len(ivy_t1c) == len(ivy_t1))"
   ]
  },
  {
   "cell_type": "markdown",
   "metadata": {},
   "source": [
    "### 2.3 Dataset - Atlas Concatenated"
   ]
  },
  {
   "cell_type": "markdown",
   "metadata": {},
   "source": [
    "#### 2.3.1 Loading Labels from Excel\n"
   ]
  },
  {
   "cell_type": "code",
   "execution_count": 6,
   "metadata": {},
   "outputs": [
    {
     "name": "stdout",
     "output_type": "stream",
     "text": [
      "603\n"
     ]
    }
   ],
   "source": [
    "atlas_data = pd.read_excel('/trials/AVAglio/Analysis/labels.xlsx', header=1, sheet_name=\"VOLUMES\")\n",
    "atlas_data = atlas_data[['PT', 'S_MGMT']]\n",
    "PT_conversion = pd.read_excel('/trials/AVAglio/Analysis/labels.xlsx', header=1, sheet_name=\"Sheet2\")\n",
    "PT_conversion = PT_conversion[['ID','PT']]\n",
    "\n",
    "conversion_table = {}\n",
    "atlas_labels = {}\n",
    "\n",
    "for i in PT_conversion.index:\n",
    "    conversion_table[PT_conversion['PT'][i]] = PT_conversion['ID'][i]\n",
    "\n",
    "for i in atlas_data.index:\n",
    "    IDnum = conversion_table.get(atlas_data['PT'][i], -1)\n",
    "    exists = (IDnum != -1)\n",
    "    if (atlas_data['S_MGMT'][i] == 1) and exists:\n",
    "        atlas_labels[IDnum] = (0,1)\n",
    "    elif (atlas_data['S_MGMT'][i] == 0) and exists:\n",
    "        atlas_labels[IDnum] = (1,0)\n",
    "\n",
    "print(len(atlas_labels))"
   ]
  },
  {
   "cell_type": "markdown",
   "metadata": {},
   "source": [
    "#### 2.3.2 Adding Labels and Image Paths to List\n"
   ]
  },
  {
   "cell_type": "code",
   "execution_count": 7,
   "metadata": {},
   "outputs": [
    {
     "name": "stdout",
     "output_type": "stream",
     "text": [
      "Valid Data from Atlas: \n",
      "427\n",
      "\n",
      "Errors from Atlas\n",
      "176\n"
     ]
    }
   ],
   "source": [
    "atlas_root = '/trials/AVAglio/DATA/Review'\n",
    "atlas_t1 = []\n",
    "atlas_t1c = []\n",
    "atlas_t2 = []\n",
    "atlas_flair = []\n",
    "atlas_mgmt = []\n",
    "atlas_id = []\n",
    "\n",
    "error_counter = 0\n",
    "\n",
    "for key in atlas_labels.keys():\n",
    "    t1_path = atlas_root + '/*-' + \"{:04d}\".format(key) + '/data/1/reg/_bet/t1.special.nii.gz'\n",
    "    t1c_path = atlas_root + '/*-' + \"{:04d}\".format(key) + '/data/1/reg/_bet/t1+c.final.nii.gz'\n",
    "    t2_path = atlas_root + '/*-' + \"{:04d}\".format(key) + '/data/1/reg/_bet/t2.final.nii.gz'\n",
    "    flair_path = atlas_root + '/*-' + \"{:04d}\".format(key) + '/data/1/reg/_bet/flair.final.nii.gz'\n",
    "\n",
    "    t1_path = insensitive_glob(t1_path)\n",
    "    t1c_path = insensitive_glob(t1c_path)\n",
    "    t2_path = insensitive_glob(t2_path)\n",
    "    flair_path = insensitive_glob(flair_path)\n",
    "\n",
    "    if len(t1_path) < 1:\n",
    "        t1_path = insensitive_glob(atlas_root + '/*-' + \"{:04d}\".format(key) + '/data/1/*/NIFTI_Native/reg/_bet/t1.special.nii.gz')\n",
    "    if len(t1c_path) < 1:\n",
    "        t1c_path = insensitive_glob(atlas_root + '/*-' + \"{:04d}\".format(key) + '/data/1/*/NIFTI_Native/reg/_bet/t1+c.final.nii.gz')\n",
    "    if len(t2_path) < 1:\n",
    "        t2_path = insensitive_glob(atlas_root + '/*-' + \"{:04d}\".format(key) + '/data/1/*/NIFTI_Native/reg/_bet/t2.final.nii.gz')\n",
    "    if len(flair_path) < 1:\n",
    "        flair_path = insensitive_glob(atlas_root + '/*-' + \"{:04d}\".format(key) + '/data/1/*/NIFTI_Native/reg/_bet/flair.final.nii.gz')\n",
    "\n",
    "\n",
    "    \n",
    "    try:\n",
    "        if ((os.path.isfile(t1c_path[0])) and (os.path.isfile(t2_path[0]))) and (os.path.isfile(flair_path[0]) and os.path.isfile(t1_path[0])):\n",
    "            atlas_t1.append(t1_path[0])\n",
    "            atlas_t1c.append(t1c_path[0])\n",
    "            atlas_t2.append(t2_path[0])\n",
    "            atlas_flair.append(flair_path[0])\n",
    "            atlas_mgmt.append(atlas_labels[key])\n",
    "            atlas_id.append(\"a\" + str(key))\n",
    "    except:\n",
    "        error_counter += 1\n",
    "\n",
    "print('Valid Data from Atlas: ')\n",
    "print(len(atlas_t1c))\n",
    "print()\n",
    "print('Errors from Atlas')\n",
    "print(error_counter)\n",
    "\n",
    "assert(len(atlas_t1c) == len(atlas_mgmt))\n",
    "assert(len(atlas_mgmt) == len(atlas_t1))"
   ]
  },
  {
   "attachments": {},
   "cell_type": "markdown",
   "metadata": {},
   "source": [
    "### 2.4 Dataset - BRaTs"
   ]
  },
  {
   "cell_type": "markdown",
   "metadata": {},
   "source": [
    "#### 2.4.1 Loading Labels"
   ]
  },
  {
   "cell_type": "code",
   "execution_count": 8,
   "metadata": {},
   "outputs": [],
   "source": [
    "brats_root = '/synapse_data/Ashley/Data/rsna-miccai-brain-tumor-radiogenomic-classification/'\n",
    "brats_data = pd.read_csv(brats_root + \"train_labels.csv\")\n",
    "brats_data = brats_data[['MGMT_value', 'BraTS21ID']]\n",
    "\n",
    "brats_labels = {}\n",
    "\n",
    "for i in range(len(brats_data)):\n",
    "    mgmtp = brats_data['MGMT_value'][i]\n",
    "    brats_labels[brats_data['BraTS21ID'][i]] = (int(not mgmtp), mgmtp)\n"
   ]
  },
  {
   "cell_type": "markdown",
   "metadata": {},
   "source": [
    "#### 2.4.2 Adding Labels and Image Paths to List"
   ]
  },
  {
   "cell_type": "code",
   "execution_count": 9,
   "metadata": {},
   "outputs": [
    {
     "name": "stdout",
     "output_type": "stream",
     "text": [
      "Valid Data from BraTS: \n",
      "576\n",
      "\n",
      "Errors from BraTS\n",
      "0\n"
     ]
    }
   ],
   "source": [
    "brats_root = '/synapse_data/Ashley/Data/rsna-miccai-brain-tumor-radiogenomic-classification/train/'\n",
    "brats_t1 = []\n",
    "brats_t1c = []\n",
    "brats_t2 = []\n",
    "brats_flair = []\n",
    "brats_mgmt = []\n",
    "brats_id = []\n",
    "\n",
    "error_counter = 0\n",
    "\n",
    "for key in brats_labels.keys():\n",
    "    t1_path = brats_root + \"{:05d}\".format(key) + \"/NIFTI_Native/T1w.nii.gz\"\n",
    "    t1c_path = brats_root + \"{:05d}\".format(key) + \"/NIFTI_Native/T1wCE.nii.gz\"\n",
    "    t2_path = brats_root + \"{:05d}\".format(key) + \"/NIFTI_Native/T2w.nii.gz\"\n",
    "    flair_path = brats_root + \"{:05d}\".format(key) + \"/NIFTI_Native/FLAIR.nii.gz\"\n",
    "\n",
    "    try:\n",
    "        if ((os.path.isfile(t1c_path)) and (os.path.isfile(t2_path))) and (os.path.isfile(flair_path) and os.path.isfile(t1_path)):\n",
    "            brats_t1.append(t1_path)\n",
    "            brats_t1c.append(t1c_path)\n",
    "            brats_t2.append(t2_path)\n",
    "            brats_flair.append(flair_path)\n",
    "            brats_mgmt.append(brats_labels[key])\n",
    "            brats_id.append(\"b\" + str(key))\n",
    "    except:\n",
    "        error_counter += 1\n",
    "\n",
    "\n",
    "print('Valid Data from BraTS: ')\n",
    "print(len(brats_t1c))\n",
    "print()\n",
    "print('Errors from BraTS')\n",
    "print(error_counter)"
   ]
  },
  {
   "cell_type": "markdown",
   "metadata": {},
   "source": [
    "## 3. Create Data Dictionaries"
   ]
  },
  {
   "cell_type": "code",
   "execution_count": 10,
   "metadata": {},
   "outputs": [
    {
     "name": "stdout",
     "output_type": "stream",
     "text": [
      "Initial list  size  All - (998, 7)\n"
     ]
    }
   ],
   "source": [
    "dataset_ivy = pd.DataFrame(np.column_stack([ivy_t1, ivy_t1c, ivy_t2, ivy_flair, ivy_id, ivy_mgmt]), columns=['t1', 't1c', 't2', 'flair', 'id', 'MGMTn', 'MGMTp'])\n",
    "dataset_atlas = pd.DataFrame(np.column_stack([atlas_t1, atlas_t1c, atlas_t2, atlas_flair, atlas_id, atlas_mgmt]), columns=['t1', 't1c', 't2', 'flair', 'id', 'MGMTn', 'MGMTp'])\n",
    "dataset_brats = pd.DataFrame(np.column_stack([brats_t1, brats_t1c, brats_t2, brats_flair, brats_id, brats_mgmt]), columns=['t1', 't1c', 't2', 'flair', 'id', 'MGMTn', 'MGMTp'])\n",
    "\n",
    "dataset_all = result = pd.concat([dataset_ivy, dataset_atlas])\n",
    "print(\"Initial list  size  All - \"  + str(dataset_all.shape))\n",
    "dataset_all.head()\n",
    "dataset_all.to_csv('pathlist.csv')"
   ]
  },
  {
   "cell_type": "markdown",
   "metadata": {},
   "source": [
    "## 4. Check Dataset"
   ]
  },
  {
   "cell_type": "markdown",
   "metadata": {},
   "source": [
    "### 4.1 Dataset Distribution"
   ]
  },
  {
   "cell_type": "code",
   "execution_count": 11,
   "metadata": {},
   "outputs": [
    {
     "data": {
      "image/png": "[encoded data removed]",
      "text/plain": [
       "<Figure size 640x480 with 1 Axes>"
      ]
     },
     "metadata": {},
     "output_type": "display_data"
    }
   ],
   "source": [
    "import matplotlib.pyplot as plt\n",
    "\n",
    "bins = [0,1]\n",
    "classes = [\"Unmethylated\", \"Methylated\"]\n",
    "plt.hist(dataset_all[\"MGMTp\"])\n",
    "plt.xticks(bins, labels=classes)\n",
    "plt.show()"
   ]
  },
  {
   "cell_type": "markdown",
   "metadata": {},
   "source": [
    "## 5. Shuffle and Split Dataset"
   ]
  },
  {
   "cell_type": "markdown",
   "metadata": {},
   "source": [
    "### 5.1 Shuffle the Dataset\n"
   ]
  },
  {
   "cell_type": "code",
   "execution_count": 12,
   "metadata": {},
   "outputs": [
    {
     "data": {
      "text/html": [
       "<div>\n",
       "<style scoped>\n",
       "    .dataframe tbody tr th:only-of-type {\n",
       "        vertical-align: middle;\n",
       "    }\n",
       "\n",
       "    .dataframe tbody tr th {\n",
       "        vertical-align: top;\n",
       "    }\n",
       "\n",
       "    .dataframe thead th {\n",
       "        text-align: right;\n",
       "    }\n",
       "</style>\n",
       "<table border=\"1\" class=\"dataframe\">\n",
       "  <thead>\n",
       "    <tr style=\"text-align: right;\">\n",
       "      <th></th>\n",
       "      <th>t1</th>\n",
       "      <th>t1c</th>\n",
       "      <th>t2</th>\n",
       "      <th>flair</th>\n",
       "      <th>id</th>\n",
       "      <th>MGMTn</th>\n",
       "      <th>MGMTp</th>\n",
       "    </tr>\n",
       "  </thead>\n",
       "  <tbody>\n",
       "    <tr>\n",
       "      <th>0</th>\n",
       "      <td>/trials/AVAglio/DATA/Review/200518-7200/data/1...</td>\n",
       "      <td>/trials/AVAglio/DATA/Review/200518-7200/data/1...</td>\n",
       "      <td>/trials/AVAglio/DATA/Review/200518-7200/data/1...</td>\n",
       "      <td>/trials/AVAglio/DATA/Review/200518-7200/data/1...</td>\n",
       "      <td>a7200</td>\n",
       "      <td>1</td>\n",
       "      <td>0</td>\n",
       "    </tr>\n",
       "    <tr>\n",
       "      <th>1</th>\n",
       "      <td>/trials/Ivy_Foundation/Final_for_Distribution/...</td>\n",
       "      <td>/trials/Ivy_Foundation/Final_for_Distribution/...</td>\n",
       "      <td>/trials/Ivy_Foundation/Final_for_Distribution/...</td>\n",
       "      <td>/trials/Ivy_Foundation/Final_for_Distribution/...</td>\n",
       "      <td>i245</td>\n",
       "      <td>0</td>\n",
       "      <td>1</td>\n",
       "    </tr>\n",
       "    <tr>\n",
       "      <th>2</th>\n",
       "      <td>/trials/AVAglio/DATA/Review/200411-3901/data/1...</td>\n",
       "      <td>/trials/AVAglio/DATA/Review/200411-3901/data/1...</td>\n",
       "      <td>/trials/AVAglio/DATA/Review/200411-3901/data/1...</td>\n",
       "      <td>/trials/AVAglio/DATA/Review/200411-3901/data/1...</td>\n",
       "      <td>a3901</td>\n",
       "      <td>0</td>\n",
       "      <td>1</td>\n",
       "    </tr>\n",
       "    <tr>\n",
       "      <th>3</th>\n",
       "      <td>/trials/Ivy_Foundation/Final_for_Distribution/...</td>\n",
       "      <td>/trials/Ivy_Foundation/Final_for_Distribution/...</td>\n",
       "      <td>/trials/Ivy_Foundation/Final_for_Distribution/...</td>\n",
       "      <td>/trials/Ivy_Foundation/Final_for_Distribution/...</td>\n",
       "      <td>I1236</td>\n",
       "      <td>1</td>\n",
       "      <td>0</td>\n",
       "    </tr>\n",
       "    <tr>\n",
       "      <th>4</th>\n",
       "      <td>/trials/Ivy_Foundation/Final_for_Distribution/...</td>\n",
       "      <td>/trials/Ivy_Foundation/Final_for_Distribution/...</td>\n",
       "      <td>/trials/Ivy_Foundation/Final_for_Distribution/...</td>\n",
       "      <td>/trials/Ivy_Foundation/Final_for_Distribution/...</td>\n",
       "      <td>I2253</td>\n",
       "      <td>1</td>\n",
       "      <td>0</td>\n",
       "    </tr>\n",
       "  </tbody>\n",
       "</table>\n",
       "</div>"
      ],
      "text/plain": [
       "                                                  t1  \\\n",
       "0  /trials/AVAglio/DATA/Review/200518-7200/data/1...   \n",
       "1  /trials/Ivy_Foundation/Final_for_Distribution/...   \n",
       "2  /trials/AVAglio/DATA/Review/200411-3901/data/1...   \n",
       "3  /trials/Ivy_Foundation/Final_for_Distribution/...   \n",
       "4  /trials/Ivy_Foundation/Final_for_Distribution/...   \n",
       "\n",
       "                                                 t1c  \\\n",
       "0  /trials/AVAglio/DATA/Review/200518-7200/data/1...   \n",
       "1  /trials/Ivy_Foundation/Final_for_Distribution/...   \n",
       "2  /trials/AVAglio/DATA/Review/200411-3901/data/1...   \n",
       "3  /trials/Ivy_Foundation/Final_for_Distribution/...   \n",
       "4  /trials/Ivy_Foundation/Final_for_Distribution/...   \n",
       "\n",
       "                                                  t2  \\\n",
       "0  /trials/AVAglio/DATA/Review/200518-7200/data/1...   \n",
       "1  /trials/Ivy_Foundation/Final_for_Distribution/...   \n",
       "2  /trials/AVAglio/DATA/Review/200411-3901/data/1...   \n",
       "3  /trials/Ivy_Foundation/Final_for_Distribution/...   \n",
       "4  /trials/Ivy_Foundation/Final_for_Distribution/...   \n",
       "\n",
       "                                               flair     id MGMTn MGMTp  \n",
       "0  /trials/AVAglio/DATA/Review/200518-7200/data/1...  a7200     1     0  \n",
       "1  /trials/Ivy_Foundation/Final_for_Distribution/...   i245     0     1  \n",
       "2  /trials/AVAglio/DATA/Review/200411-3901/data/1...  a3901     0     1  \n",
       "3  /trials/Ivy_Foundation/Final_for_Distribution/...  I1236     1     0  \n",
       "4  /trials/Ivy_Foundation/Final_for_Distribution/...  I2253     1     0  "
      ]
     },
     "execution_count": 12,
     "metadata": {},
     "output_type": "execute_result"
    }
   ],
   "source": [
    "# Shuffle dataframe and reset indices\n",
    "dataset_all = dataset_all.sample(frac=1, random_state=6)\n",
    "dataset_all = dataset_all.reset_index(drop=True)\n",
    "dataset_all.head()"
   ]
  },
  {
   "cell_type": "markdown",
   "metadata": {},
   "source": [
    "### 5.2 Train/Valid/Test Split"
   ]
  },
  {
   "cell_type": "code",
   "execution_count": 13,
   "metadata": {},
   "outputs": [
    {
     "name": "stdout",
     "output_type": "stream",
     "text": [
      "748 149 99\n",
      "748 149 99\n"
     ]
    }
   ],
   "source": [
    "train_size = int(dataset_all.shape[0] * 0.75)\n",
    "valid_size = int(dataset_all.shape[0] * 0.15)\n",
    "test_size = int(dataset_all.shape[0] * 0.10)\n",
    "\n",
    "print(train_size, valid_size, test_size)\n",
    "\n",
    "dictionary_train = [\n",
    "    {\"t1c\": a, \"t2\": b, \"flair\": c, \"MGMTn\": d, \"t1\": e, \"MGMTp\": f, \"id\": g}\n",
    "    for a, b, c, d, e, f, g in zip(dataset_all[:train_size].t1c, dataset_all[:train_size].t2, dataset_all[:train_size].flair, dataset_all[:train_size].MGMTn, dataset_all[:train_size].t1, dataset_all[:train_size].MGMTp, dataset_all[:train_size].id)\n",
    "]\n",
    "\n",
    "dictionary_valid = [\n",
    "    {\"t1c\": a, \"t2\": b, \"flair\": c, \"MGMTn\": d, \"t1\": e, \"MGMTp\": f, \"id\": g}\n",
    "    for a, b, c, d, e, f, g in zip(dataset_all[train_size:train_size+valid_size].t1c, dataset_all[train_size:train_size+valid_size].t2, dataset_all[train_size:train_size+valid_size].flair, dataset_all[train_size:train_size+valid_size].MGMTn, dataset_all[train_size:train_size+valid_size].t1, dataset_all[train_size:train_size+valid_size].MGMTp, dataset_all[train_size:train_size+valid_size].id)\n",
    "]\n",
    "\n",
    "dictionary_test = [\n",
    "    {\"t1c\": a, \"t2\": b, \"flair\": c, \"MGMTn\": d, \"t1\": e, \"MGMTp\": f, \"id\": g}\n",
    "    for a, b, c, d, e, f, g in zip(dataset_all[-test_size:].t1c, dataset_all[-test_size:].t2, dataset_all[-test_size:].flair, dataset_all[-test_size:].MGMTn, dataset_all[-test_size:].t1, dataset_all[-test_size:].MGMTp, dataset_all[-test_size:].id)\n",
    "]\n",
    "\n",
    "print(len(dictionary_train), len(dictionary_valid), len(dictionary_test))"
   ]
  },
  {
   "cell_type": "markdown",
   "metadata": {},
   "source": [
    "### 5.3 Visualize Distribution of Each Split"
   ]
  },
  {
   "cell_type": "code",
   "execution_count": 14,
   "metadata": {},
   "outputs": [
    {
     "name": "stdout",
     "output_type": "stream",
     "text": [
      "Removed 193 damaged scans\n",
      "607 123 73\n"
     ]
    }
   ],
   "source": [
    "badIDs = [\n",
    "          'b551', 'b709', 'b558', 'b834', 'I3284', 'b6', 'I1446', 'b729', 'b62', 'I1365', 'i438'\n",
    "          , 'I5880', 'a2055', 'i4179', 'i888', 'I3944', 'i2054', 'I1092', 'I309', 'I2975', 'i1033', 'i455', 'I888', \n",
    "          'i2100', 'I3384', 'i3219', 'i5887', 'i3850', 'I3597', 'I29', 'I10', 'I3596', 'I3220', 'i2975', 'i3385',\n",
    "          'i3944', 'i3109', 'i778', 'I268', 'i1130', 'i3096', 'i386', 'i959', 'i25', 'I659', 'i3120', \n",
    "          'i57', 'i167', 'i288', 'i376', 'i383', 'i384', 'i393', 'i394', 'i409', 'i450', 'i451', 'i482', 'i613', 'i656',\n",
    "          'i659', 'i661', 'i672', 'i695', 'i788', 'i815', 'i858', 'i945', 'i988', 'i1092', 'i1097', 'i1124', 'i1137', 'i1168', \n",
    "          'i1169', 'i1207', 'i1307', 'i1417', 'i1424', 'i1449', 'i1451', 'i1522', 'i1599', 'i1600', 'i1789', 'i1825', 'i1971', \n",
    "          'i2041', 'i2105', 'i2186', 'i2253', 'i2684', 'i2730', 'i3002', 'i3097', 'i3098', 'i3116', 'i3119', \n",
    "          'i3214', 'i3221', 'i3384', 'i3388', 'i3591', 'i3594', 'i3596', 'i3598', 'i3804', 'i3943', 'i4777', 'i5889',\n",
    "          'i5921', 'I17', 'I237', 'I245', 'I334', 'I340', 'I372', 'I376', 'I384', 'I390', 'I405', 'I406', 'I409', 'I410',\n",
    "          'I411', 'I412', 'I413', 'I449', 'I450', 'I454', 'I474', 'I613', 'I656', 'I661', 'I669', 'I695', 'I778', 'I815', \n",
    "          'I840', 'I855', 'I857', 'I858', 'I859', 'I959', 'I998', 'I1011', 'I1013', 'I1015', 'I1097', 'I1124', 'I1130', \n",
    "          'I1158', 'I1168', 'I1169', 'I1171', 'I1221', 'I1258', 'I1389', 'I1417', 'I1424', 'I1522', 'I1553', 'I1599', 'I1600',\n",
    "          'I1649', 'I1789', 'I1855', 'I1895', 'I1971', 'I2041', 'I2100', 'I2186', 'I2363', 'I2451', 'I2486', 'I2969', 'I3095',\n",
    "          'I3096', 'I3097', 'I3098', 'I3116', 'I3117', 'I3119', 'I3142', 'I3215', 'I3219', 'I3381', 'I3382', 'I3385', 'I3388',\n",
    "          'I3594', 'I3598', 'I3802', 'I3805', 'I3850', 'I3943', 'I4130', 'I4204', 'I4587', 'I4779', 'a3108', 'i17'\n",
    "         ]\n",
    "\n",
    "badIDs = set(badIDs)\n",
    "\n",
    "size_before = len(dictionary_train) + len(dictionary_valid) + len(dictionary_test)\n",
    "\n",
    "dictionary_train = [item for item in dictionary_train if item['id'] not in badIDs]\n",
    "dictionary_valid = [item for item in dictionary_valid if item['id'] not in badIDs]\n",
    "dictionary_test = [item for item in dictionary_test if item['id'] not in badIDs]\n",
    "\n",
    "size_after = len(dictionary_train) + len(dictionary_valid) + len(dictionary_test)\n",
    "\n",
    "print(\"Removed \" + str(size_before - size_after) + \" damaged scans\")\n",
    "print(len(dictionary_train), len(dictionary_valid), len(dictionary_test))"
   ]
  },
  {
   "cell_type": "code",
   "execution_count": 15,
   "metadata": {},
   "outputs": [
    {
     "data": {
      "image/png": "[encoded data removed]",
      "text/plain": [
       "<Figure size 1200x1800 with 3 Axes>"
      ]
     },
     "metadata": {},
     "output_type": "display_data"
    }
   ],
   "source": [
    "bins = [0, 1]\n",
    "mgmt_status = [\"Unmethylated\", \"Methylated\"]\n",
    "\n",
    "\n",
    "plt.figure(\"distributions\", (12,18))\n",
    "\n",
    "plt.subplot(3, 1, 1)\n",
    "plt.title(\"Training Dataset Distributions\")\n",
    "plt.hist(dataset_all[:train_size].MGMTp)\n",
    "plt.xticks(bins, labels=mgmt_status)\n",
    "\n",
    "plt.subplot(3, 1, 2)\n",
    "plt.title(\"Validation Dataset Distributions\")\n",
    "plt.hist(dataset_all[train_size:train_size+valid_size].MGMTp)\n",
    "plt.xticks(bins, labels=mgmt_status)\n",
    "\n",
    "plt.subplot(3, 1, 3)\n",
    "plt.title(\"Test Dataset Distributions\")\n",
    "plt.hist(dataset_all[-test_size:].MGMTp)\n",
    "plt.xticks(bins, labels=mgmt_status)\n",
    "\n",
    "plt.show()\n"
   ]
  },
  {
   "cell_type": "markdown",
   "metadata": {},
   "source": [
    "## 6. Store Datasets"
   ]
  },
  {
   "cell_type": "code",
   "execution_count": 16,
   "metadata": {},
   "outputs": [
    {
     "name": "stdout",
     "output_type": "stream",
     "text": [
      "Stored 'dictionary_train' (list)\n",
      "Stored 'dictionary_valid' (list)\n",
      "Stored 'dictionary_test' (list)\n"
     ]
    }
   ],
   "source": [
    "%store dictionary_train\n",
    "%store dictionary_valid\n",
    "%store dictionary_test"
   ]
  },
  {
   "cell_type": "code",
   "execution_count": null,
   "metadata": {},
   "outputs": [],
   "source": []
  },
  {
   "cell_type": "code",
   "execution_count": null,
   "metadata": {},
   "outputs": [],
   "source": []
  },
  {
   "cell_type": "code",
   "execution_count": null,
   "metadata": {},
   "outputs": [],
   "source": []
  },
  {
   "cell_type": "code",
   "execution_count": null,
   "metadata": {},
   "outputs": [],
   "source": []
  }
 ],
 "metadata": {
  "kernelspec": {
   "display_name": "Python 3 (ipykernel)",
   "language": "python",
   "name": "python3"
  },
  "language_info": {
   "codemirror_mode": {
    "name": "ipython",
    "version": 3
   },
   "file_extension": ".py",
   "mimetype": "text/x-python",
   "name": "python",
   "nbconvert_exporter": "python",
   "pygments_lexer": "ipython3",
   "version": "3.10.12"
  }
 },
 "nbformat": 4,
 "nbformat_minor": 4
}
